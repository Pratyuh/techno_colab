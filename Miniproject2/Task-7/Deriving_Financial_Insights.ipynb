{
 "cells": [
  {
   "cell_type": "markdown",
   "metadata": {},
   "source": [
    "**Your challenge can be found toward the end of this notebook. The code below will be needed in order to begin the challenge. Read through and execute all necessary portions of this code to complete the tasks for this challenge.**"
   ]
  },
  {
   "cell_type": "markdown",
   "metadata": {},
   "source": [
    "##### Import the necessary packages"
   ]
  },
  {
   "cell_type": "code",
   "execution_count": 1,
   "metadata": {},
   "outputs": [],
   "source": [
    "import numpy as np #numerical computation\n",
    "import pandas as pd #data wrangling\n",
    "import matplotlib.pyplot as plt #plotting package\n",
    "#Next line helps with rendering plots\n",
    "%matplotlib inline\n",
    "import matplotlib as mpl #add'l plotting functionality\n",
    "mpl.rcParams['figure.dpi'] = 400 #high res figures\n",
    "import graphviz #to visualize decision trees"
   ]
  },
  {
   "cell_type": "markdown",
   "metadata": {},
   "source": [
    "##### Cleaning the Dataset"
   ]
  },
  {
   "cell_type": "code",
   "execution_count": 2,
   "metadata": {},
   "outputs": [],
   "source": [
    "df_orig = pd.read_excel('default_of_credit_card_clients.xls')"
   ]
  },
  {
   "cell_type": "code",
   "execution_count": 3,
   "metadata": {},
   "outputs": [
    {
     "data": {
      "text/html": [
       "<div>\n",
       "<style scoped>\n",
       "    .dataframe tbody tr th:only-of-type {\n",
       "        vertical-align: middle;\n",
       "    }\n",
       "\n",
       "    .dataframe tbody tr th {\n",
       "        vertical-align: top;\n",
       "    }\n",
       "\n",
       "    .dataframe thead th {\n",
       "        text-align: right;\n",
       "    }\n",
       "</style>\n",
       "<table border=\"1\" class=\"dataframe\">\n",
       "  <thead>\n",
       "    <tr style=\"text-align: right;\">\n",
       "      <th></th>\n",
       "      <th>ID</th>\n",
       "      <th>LIMIT_BAL</th>\n",
       "      <th>SEX</th>\n",
       "      <th>EDUCATION</th>\n",
       "      <th>MARRIAGE</th>\n",
       "      <th>AGE</th>\n",
       "      <th>PAY_1</th>\n",
       "      <th>PAY_2</th>\n",
       "      <th>PAY_3</th>\n",
       "      <th>PAY_4</th>\n",
       "      <th>...</th>\n",
       "      <th>BILL_AMT4</th>\n",
       "      <th>BILL_AMT5</th>\n",
       "      <th>BILL_AMT6</th>\n",
       "      <th>PAY_AMT1</th>\n",
       "      <th>PAY_AMT2</th>\n",
       "      <th>PAY_AMT3</th>\n",
       "      <th>PAY_AMT4</th>\n",
       "      <th>PAY_AMT5</th>\n",
       "      <th>PAY_AMT6</th>\n",
       "      <th>default payment next month</th>\n",
       "    </tr>\n",
       "  </thead>\n",
       "  <tbody>\n",
       "    <tr>\n",
       "      <th>0</th>\n",
       "      <td>False</td>\n",
       "      <td>False</td>\n",
       "      <td>False</td>\n",
       "      <td>False</td>\n",
       "      <td>False</td>\n",
       "      <td>False</td>\n",
       "      <td>False</td>\n",
       "      <td>False</td>\n",
       "      <td>False</td>\n",
       "      <td>False</td>\n",
       "      <td>...</td>\n",
       "      <td>True</td>\n",
       "      <td>True</td>\n",
       "      <td>True</td>\n",
       "      <td>True</td>\n",
       "      <td>False</td>\n",
       "      <td>True</td>\n",
       "      <td>True</td>\n",
       "      <td>True</td>\n",
       "      <td>True</td>\n",
       "      <td>False</td>\n",
       "    </tr>\n",
       "    <tr>\n",
       "      <th>1</th>\n",
       "      <td>False</td>\n",
       "      <td>False</td>\n",
       "      <td>False</td>\n",
       "      <td>False</td>\n",
       "      <td>False</td>\n",
       "      <td>False</td>\n",
       "      <td>False</td>\n",
       "      <td>False</td>\n",
       "      <td>True</td>\n",
       "      <td>True</td>\n",
       "      <td>...</td>\n",
       "      <td>False</td>\n",
       "      <td>False</td>\n",
       "      <td>False</td>\n",
       "      <td>True</td>\n",
       "      <td>False</td>\n",
       "      <td>False</td>\n",
       "      <td>False</td>\n",
       "      <td>True</td>\n",
       "      <td>False</td>\n",
       "      <td>False</td>\n",
       "    </tr>\n",
       "    <tr>\n",
       "      <th>2</th>\n",
       "      <td>False</td>\n",
       "      <td>False</td>\n",
       "      <td>False</td>\n",
       "      <td>False</td>\n",
       "      <td>False</td>\n",
       "      <td>False</td>\n",
       "      <td>True</td>\n",
       "      <td>True</td>\n",
       "      <td>True</td>\n",
       "      <td>True</td>\n",
       "      <td>...</td>\n",
       "      <td>False</td>\n",
       "      <td>False</td>\n",
       "      <td>False</td>\n",
       "      <td>False</td>\n",
       "      <td>False</td>\n",
       "      <td>False</td>\n",
       "      <td>False</td>\n",
       "      <td>False</td>\n",
       "      <td>False</td>\n",
       "      <td>True</td>\n",
       "    </tr>\n",
       "    <tr>\n",
       "      <th>3</th>\n",
       "      <td>False</td>\n",
       "      <td>False</td>\n",
       "      <td>False</td>\n",
       "      <td>False</td>\n",
       "      <td>False</td>\n",
       "      <td>False</td>\n",
       "      <td>True</td>\n",
       "      <td>True</td>\n",
       "      <td>True</td>\n",
       "      <td>True</td>\n",
       "      <td>...</td>\n",
       "      <td>False</td>\n",
       "      <td>False</td>\n",
       "      <td>False</td>\n",
       "      <td>False</td>\n",
       "      <td>False</td>\n",
       "      <td>False</td>\n",
       "      <td>False</td>\n",
       "      <td>False</td>\n",
       "      <td>False</td>\n",
       "      <td>True</td>\n",
       "    </tr>\n",
       "    <tr>\n",
       "      <th>4</th>\n",
       "      <td>False</td>\n",
       "      <td>False</td>\n",
       "      <td>False</td>\n",
       "      <td>False</td>\n",
       "      <td>False</td>\n",
       "      <td>False</td>\n",
       "      <td>False</td>\n",
       "      <td>True</td>\n",
       "      <td>False</td>\n",
       "      <td>True</td>\n",
       "      <td>...</td>\n",
       "      <td>False</td>\n",
       "      <td>False</td>\n",
       "      <td>False</td>\n",
       "      <td>False</td>\n",
       "      <td>False</td>\n",
       "      <td>False</td>\n",
       "      <td>False</td>\n",
       "      <td>False</td>\n",
       "      <td>False</td>\n",
       "      <td>True</td>\n",
       "    </tr>\n",
       "    <tr>\n",
       "      <th>...</th>\n",
       "      <td>...</td>\n",
       "      <td>...</td>\n",
       "      <td>...</td>\n",
       "      <td>...</td>\n",
       "      <td>...</td>\n",
       "      <td>...</td>\n",
       "      <td>...</td>\n",
       "      <td>...</td>\n",
       "      <td>...</td>\n",
       "      <td>...</td>\n",
       "      <td>...</td>\n",
       "      <td>...</td>\n",
       "      <td>...</td>\n",
       "      <td>...</td>\n",
       "      <td>...</td>\n",
       "      <td>...</td>\n",
       "      <td>...</td>\n",
       "      <td>...</td>\n",
       "      <td>...</td>\n",
       "      <td>...</td>\n",
       "      <td>...</td>\n",
       "    </tr>\n",
       "    <tr>\n",
       "      <th>29995</th>\n",
       "      <td>False</td>\n",
       "      <td>False</td>\n",
       "      <td>False</td>\n",
       "      <td>False</td>\n",
       "      <td>False</td>\n",
       "      <td>False</td>\n",
       "      <td>True</td>\n",
       "      <td>True</td>\n",
       "      <td>True</td>\n",
       "      <td>True</td>\n",
       "      <td>...</td>\n",
       "      <td>False</td>\n",
       "      <td>False</td>\n",
       "      <td>False</td>\n",
       "      <td>False</td>\n",
       "      <td>False</td>\n",
       "      <td>False</td>\n",
       "      <td>False</td>\n",
       "      <td>False</td>\n",
       "      <td>False</td>\n",
       "      <td>True</td>\n",
       "    </tr>\n",
       "    <tr>\n",
       "      <th>29996</th>\n",
       "      <td>False</td>\n",
       "      <td>False</td>\n",
       "      <td>False</td>\n",
       "      <td>False</td>\n",
       "      <td>False</td>\n",
       "      <td>False</td>\n",
       "      <td>False</td>\n",
       "      <td>False</td>\n",
       "      <td>False</td>\n",
       "      <td>False</td>\n",
       "      <td>...</td>\n",
       "      <td>False</td>\n",
       "      <td>False</td>\n",
       "      <td>True</td>\n",
       "      <td>False</td>\n",
       "      <td>False</td>\n",
       "      <td>False</td>\n",
       "      <td>False</td>\n",
       "      <td>True</td>\n",
       "      <td>True</td>\n",
       "      <td>True</td>\n",
       "    </tr>\n",
       "    <tr>\n",
       "      <th>29997</th>\n",
       "      <td>False</td>\n",
       "      <td>False</td>\n",
       "      <td>False</td>\n",
       "      <td>False</td>\n",
       "      <td>False</td>\n",
       "      <td>False</td>\n",
       "      <td>False</td>\n",
       "      <td>False</td>\n",
       "      <td>False</td>\n",
       "      <td>False</td>\n",
       "      <td>...</td>\n",
       "      <td>False</td>\n",
       "      <td>False</td>\n",
       "      <td>False</td>\n",
       "      <td>True</td>\n",
       "      <td>True</td>\n",
       "      <td>False</td>\n",
       "      <td>False</td>\n",
       "      <td>False</td>\n",
       "      <td>False</td>\n",
       "      <td>False</td>\n",
       "    </tr>\n",
       "    <tr>\n",
       "      <th>29998</th>\n",
       "      <td>False</td>\n",
       "      <td>False</td>\n",
       "      <td>False</td>\n",
       "      <td>False</td>\n",
       "      <td>False</td>\n",
       "      <td>False</td>\n",
       "      <td>False</td>\n",
       "      <td>False</td>\n",
       "      <td>True</td>\n",
       "      <td>True</td>\n",
       "      <td>...</td>\n",
       "      <td>False</td>\n",
       "      <td>False</td>\n",
       "      <td>False</td>\n",
       "      <td>False</td>\n",
       "      <td>False</td>\n",
       "      <td>False</td>\n",
       "      <td>False</td>\n",
       "      <td>False</td>\n",
       "      <td>False</td>\n",
       "      <td>False</td>\n",
       "    </tr>\n",
       "    <tr>\n",
       "      <th>29999</th>\n",
       "      <td>False</td>\n",
       "      <td>False</td>\n",
       "      <td>False</td>\n",
       "      <td>False</td>\n",
       "      <td>False</td>\n",
       "      <td>False</td>\n",
       "      <td>True</td>\n",
       "      <td>True</td>\n",
       "      <td>True</td>\n",
       "      <td>True</td>\n",
       "      <td>...</td>\n",
       "      <td>False</td>\n",
       "      <td>False</td>\n",
       "      <td>False</td>\n",
       "      <td>False</td>\n",
       "      <td>False</td>\n",
       "      <td>False</td>\n",
       "      <td>False</td>\n",
       "      <td>False</td>\n",
       "      <td>False</td>\n",
       "      <td>False</td>\n",
       "    </tr>\n",
       "  </tbody>\n",
       "</table>\n",
       "<p>30000 rows × 25 columns</p>\n",
       "</div>"
      ],
      "text/plain": [
       "          ID  LIMIT_BAL    SEX  EDUCATION  MARRIAGE    AGE  PAY_1  PAY_2  \\\n",
       "0      False      False  False      False     False  False  False  False   \n",
       "1      False      False  False      False     False  False  False  False   \n",
       "2      False      False  False      False     False  False   True   True   \n",
       "3      False      False  False      False     False  False   True   True   \n",
       "4      False      False  False      False     False  False  False   True   \n",
       "...      ...        ...    ...        ...       ...    ...    ...    ...   \n",
       "29995  False      False  False      False     False  False   True   True   \n",
       "29996  False      False  False      False     False  False  False  False   \n",
       "29997  False      False  False      False     False  False  False  False   \n",
       "29998  False      False  False      False     False  False  False  False   \n",
       "29999  False      False  False      False     False  False   True   True   \n",
       "\n",
       "       PAY_3  PAY_4  ...  BILL_AMT4  BILL_AMT5  BILL_AMT6  PAY_AMT1  PAY_AMT2  \\\n",
       "0      False  False  ...       True       True       True      True     False   \n",
       "1       True   True  ...      False      False      False      True     False   \n",
       "2       True   True  ...      False      False      False     False     False   \n",
       "3       True   True  ...      False      False      False     False     False   \n",
       "4      False   True  ...      False      False      False     False     False   \n",
       "...      ...    ...  ...        ...        ...        ...       ...       ...   \n",
       "29995   True   True  ...      False      False      False     False     False   \n",
       "29996  False  False  ...      False      False       True     False     False   \n",
       "29997  False  False  ...      False      False      False      True      True   \n",
       "29998   True   True  ...      False      False      False     False     False   \n",
       "29999   True   True  ...      False      False      False     False     False   \n",
       "\n",
       "       PAY_AMT3  PAY_AMT4  PAY_AMT5  PAY_AMT6  default payment next month  \n",
       "0          True      True      True      True                       False  \n",
       "1         False     False      True     False                       False  \n",
       "2         False     False     False     False                        True  \n",
       "3         False     False     False     False                        True  \n",
       "4         False     False     False     False                        True  \n",
       "...         ...       ...       ...       ...                         ...  \n",
       "29995     False     False     False     False                        True  \n",
       "29996     False     False      True      True                        True  \n",
       "29997     False     False     False     False                       False  \n",
       "29998     False     False     False     False                       False  \n",
       "29999     False     False     False     False                       False  \n",
       "\n",
       "[30000 rows x 25 columns]"
      ]
     },
     "execution_count": 3,
     "metadata": {},
     "output_type": "execute_result"
    }
   ],
   "source": [
    "df_zero_mask = df_orig == 0\n",
    "df_zero_mask"
   ]
  },
  {
   "cell_type": "code",
   "execution_count": 4,
   "metadata": {},
   "outputs": [],
   "source": [
    "feature_zero_mask = df_zero_mask.iloc[:,1:].all(axis=1)"
   ]
  },
  {
   "cell_type": "code",
   "execution_count": 5,
   "metadata": {},
   "outputs": [
    {
     "data": {
      "text/plain": [
       "315"
      ]
     },
     "execution_count": 5,
     "metadata": {},
     "output_type": "execute_result"
    }
   ],
   "source": [
    "sum(feature_zero_mask)\n",
    "# 315"
   ]
  },
  {
   "cell_type": "markdown",
   "metadata": {},
   "source": [
    "Remove all the rows with all zero features and response, confirm this that gets rid of the duplicate IDs."
   ]
  },
  {
   "cell_type": "code",
   "execution_count": 6,
   "metadata": {},
   "outputs": [
    {
     "data": {
      "text/html": [
       "<div>\n",
       "<style scoped>\n",
       "    .dataframe tbody tr th:only-of-type {\n",
       "        vertical-align: middle;\n",
       "    }\n",
       "\n",
       "    .dataframe tbody tr th {\n",
       "        vertical-align: top;\n",
       "    }\n",
       "\n",
       "    .dataframe thead th {\n",
       "        text-align: right;\n",
       "    }\n",
       "</style>\n",
       "<table border=\"1\" class=\"dataframe\">\n",
       "  <thead>\n",
       "    <tr style=\"text-align: right;\">\n",
       "      <th></th>\n",
       "      <th>ID</th>\n",
       "      <th>LIMIT_BAL</th>\n",
       "      <th>SEX</th>\n",
       "      <th>EDUCATION</th>\n",
       "      <th>MARRIAGE</th>\n",
       "      <th>AGE</th>\n",
       "      <th>PAY_1</th>\n",
       "      <th>PAY_2</th>\n",
       "      <th>PAY_3</th>\n",
       "      <th>PAY_4</th>\n",
       "      <th>...</th>\n",
       "      <th>BILL_AMT4</th>\n",
       "      <th>BILL_AMT5</th>\n",
       "      <th>BILL_AMT6</th>\n",
       "      <th>PAY_AMT1</th>\n",
       "      <th>PAY_AMT2</th>\n",
       "      <th>PAY_AMT3</th>\n",
       "      <th>PAY_AMT4</th>\n",
       "      <th>PAY_AMT5</th>\n",
       "      <th>PAY_AMT6</th>\n",
       "      <th>default payment next month</th>\n",
       "    </tr>\n",
       "  </thead>\n",
       "  <tbody>\n",
       "    <tr>\n",
       "      <th>0</th>\n",
       "      <td>798fc410-45c1</td>\n",
       "      <td>20000</td>\n",
       "      <td>2</td>\n",
       "      <td>2</td>\n",
       "      <td>1</td>\n",
       "      <td>24</td>\n",
       "      <td>2</td>\n",
       "      <td>2</td>\n",
       "      <td>-1</td>\n",
       "      <td>-1</td>\n",
       "      <td>...</td>\n",
       "      <td>0</td>\n",
       "      <td>0</td>\n",
       "      <td>0</td>\n",
       "      <td>0</td>\n",
       "      <td>689</td>\n",
       "      <td>0</td>\n",
       "      <td>0</td>\n",
       "      <td>0</td>\n",
       "      <td>0</td>\n",
       "      <td>1</td>\n",
       "    </tr>\n",
       "    <tr>\n",
       "      <th>1</th>\n",
       "      <td>8a8c8f3b-8eb4</td>\n",
       "      <td>120000</td>\n",
       "      <td>2</td>\n",
       "      <td>2</td>\n",
       "      <td>2</td>\n",
       "      <td>26</td>\n",
       "      <td>-1</td>\n",
       "      <td>2</td>\n",
       "      <td>0</td>\n",
       "      <td>0</td>\n",
       "      <td>...</td>\n",
       "      <td>3272</td>\n",
       "      <td>3455</td>\n",
       "      <td>3261</td>\n",
       "      <td>0</td>\n",
       "      <td>1000</td>\n",
       "      <td>1000</td>\n",
       "      <td>1000</td>\n",
       "      <td>0</td>\n",
       "      <td>2000</td>\n",
       "      <td>1</td>\n",
       "    </tr>\n",
       "    <tr>\n",
       "      <th>2</th>\n",
       "      <td>85698822-43f5</td>\n",
       "      <td>90000</td>\n",
       "      <td>2</td>\n",
       "      <td>2</td>\n",
       "      <td>2</td>\n",
       "      <td>34</td>\n",
       "      <td>0</td>\n",
       "      <td>0</td>\n",
       "      <td>0</td>\n",
       "      <td>0</td>\n",
       "      <td>...</td>\n",
       "      <td>14331</td>\n",
       "      <td>14948</td>\n",
       "      <td>15549</td>\n",
       "      <td>1518</td>\n",
       "      <td>1500</td>\n",
       "      <td>1000</td>\n",
       "      <td>1000</td>\n",
       "      <td>1000</td>\n",
       "      <td>5000</td>\n",
       "      <td>0</td>\n",
       "    </tr>\n",
       "    <tr>\n",
       "      <th>3</th>\n",
       "      <td>0737c11b-be42</td>\n",
       "      <td>50000</td>\n",
       "      <td>2</td>\n",
       "      <td>2</td>\n",
       "      <td>1</td>\n",
       "      <td>37</td>\n",
       "      <td>0</td>\n",
       "      <td>0</td>\n",
       "      <td>0</td>\n",
       "      <td>0</td>\n",
       "      <td>...</td>\n",
       "      <td>28314</td>\n",
       "      <td>28959</td>\n",
       "      <td>29547</td>\n",
       "      <td>2000</td>\n",
       "      <td>2019</td>\n",
       "      <td>1200</td>\n",
       "      <td>1100</td>\n",
       "      <td>1069</td>\n",
       "      <td>1000</td>\n",
       "      <td>0</td>\n",
       "    </tr>\n",
       "    <tr>\n",
       "      <th>4</th>\n",
       "      <td>3b7f77cc-dbc0</td>\n",
       "      <td>50000</td>\n",
       "      <td>1</td>\n",
       "      <td>2</td>\n",
       "      <td>1</td>\n",
       "      <td>57</td>\n",
       "      <td>-1</td>\n",
       "      <td>0</td>\n",
       "      <td>-1</td>\n",
       "      <td>0</td>\n",
       "      <td>...</td>\n",
       "      <td>20940</td>\n",
       "      <td>19146</td>\n",
       "      <td>19131</td>\n",
       "      <td>2000</td>\n",
       "      <td>36681</td>\n",
       "      <td>10000</td>\n",
       "      <td>9000</td>\n",
       "      <td>689</td>\n",
       "      <td>679</td>\n",
       "      <td>0</td>\n",
       "    </tr>\n",
       "    <tr>\n",
       "      <th>...</th>\n",
       "      <td>...</td>\n",
       "      <td>...</td>\n",
       "      <td>...</td>\n",
       "      <td>...</td>\n",
       "      <td>...</td>\n",
       "      <td>...</td>\n",
       "      <td>...</td>\n",
       "      <td>...</td>\n",
       "      <td>...</td>\n",
       "      <td>...</td>\n",
       "      <td>...</td>\n",
       "      <td>...</td>\n",
       "      <td>...</td>\n",
       "      <td>...</td>\n",
       "      <td>...</td>\n",
       "      <td>...</td>\n",
       "      <td>...</td>\n",
       "      <td>...</td>\n",
       "      <td>...</td>\n",
       "      <td>...</td>\n",
       "      <td>...</td>\n",
       "    </tr>\n",
       "    <tr>\n",
       "      <th>29995</th>\n",
       "      <td>ecff42d0-bdc6</td>\n",
       "      <td>220000</td>\n",
       "      <td>1</td>\n",
       "      <td>3</td>\n",
       "      <td>1</td>\n",
       "      <td>39</td>\n",
       "      <td>0</td>\n",
       "      <td>0</td>\n",
       "      <td>0</td>\n",
       "      <td>0</td>\n",
       "      <td>...</td>\n",
       "      <td>88004</td>\n",
       "      <td>31237</td>\n",
       "      <td>15980</td>\n",
       "      <td>8500</td>\n",
       "      <td>20000</td>\n",
       "      <td>5003</td>\n",
       "      <td>3047</td>\n",
       "      <td>5000</td>\n",
       "      <td>1000</td>\n",
       "      <td>0</td>\n",
       "    </tr>\n",
       "    <tr>\n",
       "      <th>29996</th>\n",
       "      <td>99d1fa0e-222b</td>\n",
       "      <td>150000</td>\n",
       "      <td>1</td>\n",
       "      <td>3</td>\n",
       "      <td>2</td>\n",
       "      <td>43</td>\n",
       "      <td>-1</td>\n",
       "      <td>-1</td>\n",
       "      <td>-1</td>\n",
       "      <td>-1</td>\n",
       "      <td>...</td>\n",
       "      <td>8979</td>\n",
       "      <td>5190</td>\n",
       "      <td>0</td>\n",
       "      <td>1837</td>\n",
       "      <td>3526</td>\n",
       "      <td>8998</td>\n",
       "      <td>129</td>\n",
       "      <td>0</td>\n",
       "      <td>0</td>\n",
       "      <td>0</td>\n",
       "    </tr>\n",
       "    <tr>\n",
       "      <th>29997</th>\n",
       "      <td>95cdd3e7-4f24</td>\n",
       "      <td>30000</td>\n",
       "      <td>1</td>\n",
       "      <td>2</td>\n",
       "      <td>2</td>\n",
       "      <td>37</td>\n",
       "      <td>4</td>\n",
       "      <td>3</td>\n",
       "      <td>2</td>\n",
       "      <td>-1</td>\n",
       "      <td>...</td>\n",
       "      <td>20878</td>\n",
       "      <td>20582</td>\n",
       "      <td>19357</td>\n",
       "      <td>0</td>\n",
       "      <td>0</td>\n",
       "      <td>22000</td>\n",
       "      <td>4200</td>\n",
       "      <td>2000</td>\n",
       "      <td>3100</td>\n",
       "      <td>1</td>\n",
       "    </tr>\n",
       "    <tr>\n",
       "      <th>29998</th>\n",
       "      <td>00d03f02-04cd</td>\n",
       "      <td>80000</td>\n",
       "      <td>1</td>\n",
       "      <td>3</td>\n",
       "      <td>1</td>\n",
       "      <td>41</td>\n",
       "      <td>1</td>\n",
       "      <td>-1</td>\n",
       "      <td>0</td>\n",
       "      <td>0</td>\n",
       "      <td>...</td>\n",
       "      <td>52774</td>\n",
       "      <td>11855</td>\n",
       "      <td>48944</td>\n",
       "      <td>85900</td>\n",
       "      <td>3409</td>\n",
       "      <td>1178</td>\n",
       "      <td>1926</td>\n",
       "      <td>52964</td>\n",
       "      <td>1804</td>\n",
       "      <td>1</td>\n",
       "    </tr>\n",
       "    <tr>\n",
       "      <th>29999</th>\n",
       "      <td>15d69f9f-5ad3</td>\n",
       "      <td>50000</td>\n",
       "      <td>1</td>\n",
       "      <td>2</td>\n",
       "      <td>1</td>\n",
       "      <td>46</td>\n",
       "      <td>0</td>\n",
       "      <td>0</td>\n",
       "      <td>0</td>\n",
       "      <td>0</td>\n",
       "      <td>...</td>\n",
       "      <td>36535</td>\n",
       "      <td>32428</td>\n",
       "      <td>15313</td>\n",
       "      <td>2078</td>\n",
       "      <td>1800</td>\n",
       "      <td>1430</td>\n",
       "      <td>1000</td>\n",
       "      <td>1000</td>\n",
       "      <td>1000</td>\n",
       "      <td>1</td>\n",
       "    </tr>\n",
       "  </tbody>\n",
       "</table>\n",
       "<p>29685 rows × 25 columns</p>\n",
       "</div>"
      ],
      "text/plain": [
       "                  ID  LIMIT_BAL  SEX  EDUCATION  MARRIAGE  AGE PAY_1  PAY_2  \\\n",
       "0      798fc410-45c1      20000    2          2         1   24     2      2   \n",
       "1      8a8c8f3b-8eb4     120000    2          2         2   26    -1      2   \n",
       "2      85698822-43f5      90000    2          2         2   34     0      0   \n",
       "3      0737c11b-be42      50000    2          2         1   37     0      0   \n",
       "4      3b7f77cc-dbc0      50000    1          2         1   57    -1      0   \n",
       "...              ...        ...  ...        ...       ...  ...   ...    ...   \n",
       "29995  ecff42d0-bdc6     220000    1          3         1   39     0      0   \n",
       "29996  99d1fa0e-222b     150000    1          3         2   43    -1     -1   \n",
       "29997  95cdd3e7-4f24      30000    1          2         2   37     4      3   \n",
       "29998  00d03f02-04cd      80000    1          3         1   41     1     -1   \n",
       "29999  15d69f9f-5ad3      50000    1          2         1   46     0      0   \n",
       "\n",
       "       PAY_3  PAY_4  ...  BILL_AMT4  BILL_AMT5  BILL_AMT6  PAY_AMT1  PAY_AMT2  \\\n",
       "0         -1     -1  ...          0          0          0         0       689   \n",
       "1          0      0  ...       3272       3455       3261         0      1000   \n",
       "2          0      0  ...      14331      14948      15549      1518      1500   \n",
       "3          0      0  ...      28314      28959      29547      2000      2019   \n",
       "4         -1      0  ...      20940      19146      19131      2000     36681   \n",
       "...      ...    ...  ...        ...        ...        ...       ...       ...   \n",
       "29995      0      0  ...      88004      31237      15980      8500     20000   \n",
       "29996     -1     -1  ...       8979       5190          0      1837      3526   \n",
       "29997      2     -1  ...      20878      20582      19357         0         0   \n",
       "29998      0      0  ...      52774      11855      48944     85900      3409   \n",
       "29999      0      0  ...      36535      32428      15313      2078      1800   \n",
       "\n",
       "       PAY_AMT3  PAY_AMT4  PAY_AMT5  PAY_AMT6  default payment next month  \n",
       "0             0         0         0         0                           1  \n",
       "1          1000      1000         0      2000                           1  \n",
       "2          1000      1000      1000      5000                           0  \n",
       "3          1200      1100      1069      1000                           0  \n",
       "4         10000      9000       689       679                           0  \n",
       "...         ...       ...       ...       ...                         ...  \n",
       "29995      5003      3047      5000      1000                           0  \n",
       "29996      8998       129         0         0                           0  \n",
       "29997     22000      4200      2000      3100                           1  \n",
       "29998      1178      1926     52964      1804                           1  \n",
       "29999      1430      1000      1000      1000                           1  \n",
       "\n",
       "[29685 rows x 25 columns]"
      ]
     },
     "execution_count": 6,
     "metadata": {},
     "output_type": "execute_result"
    }
   ],
   "source": [
    "df_clean = df_orig.loc[~feature_zero_mask,:].copy()\n",
    "df_clean"
   ]
  },
  {
   "cell_type": "code",
   "execution_count": 7,
   "metadata": {},
   "outputs": [
    {
     "data": {
      "text/plain": [
       "(29685, 25)"
      ]
     },
     "execution_count": 7,
     "metadata": {},
     "output_type": "execute_result"
    }
   ],
   "source": [
    "df_clean.shape\n",
    "# (29685, 25)"
   ]
  },
  {
   "cell_type": "code",
   "execution_count": 8,
   "metadata": {},
   "outputs": [
    {
     "data": {
      "text/plain": [
       "29685"
      ]
     },
     "execution_count": 8,
     "metadata": {},
     "output_type": "execute_result"
    }
   ],
   "source": [
    "df_clean['ID'].nunique()\n",
    "# 29685"
   ]
  },
  {
   "cell_type": "markdown",
   "metadata": {},
   "source": [
    "Clean up the `EDUCATION` and `MARRIAGE` features as in Chapter 1"
   ]
  },
  {
   "cell_type": "code",
   "execution_count": 9,
   "metadata": {},
   "outputs": [
    {
     "data": {
      "text/plain": [
       "2    13884\n",
       "1    10474\n",
       "3     4867\n",
       "5      275\n",
       "4      122\n",
       "6       49\n",
       "0       14\n",
       "Name: EDUCATION, dtype: int64"
      ]
     },
     "execution_count": 9,
     "metadata": {},
     "output_type": "execute_result"
    }
   ],
   "source": [
    "df_clean['EDUCATION'].value_counts()\n",
    "# 2    13884\n",
    "# 1    10474\n",
    "# 3     4867\n",
    "# 5      275\n",
    "# 4      122\n",
    "# 6       49\n",
    "# 0       14\n",
    "# Name: EDUCATION, dtype: int64"
   ]
  },
  {
   "cell_type": "markdown",
   "metadata": {},
   "source": [
    "\"Education (1 = graduate school; 2 = university; 3 = high school; 4 = others)\""
   ]
  },
  {
   "cell_type": "markdown",
   "metadata": {},
   "source": [
    "Assign unknown categories to other."
   ]
  },
  {
   "cell_type": "code",
   "execution_count": 10,
   "metadata": {},
   "outputs": [],
   "source": [
    "df_clean['EDUCATION'].replace(to_replace=[0, 5, 6], value=4, inplace=True)"
   ]
  },
  {
   "cell_type": "code",
   "execution_count": 11,
   "metadata": {},
   "outputs": [
    {
     "data": {
      "text/plain": [
       "2    13884\n",
       "1    10474\n",
       "3     4867\n",
       "4      460\n",
       "Name: EDUCATION, dtype: int64"
      ]
     },
     "execution_count": 11,
     "metadata": {},
     "output_type": "execute_result"
    }
   ],
   "source": [
    "df_clean['EDUCATION'].value_counts()\n",
    "# 2    13884\n",
    "# 1    10474\n",
    "# 3     4867\n",
    "# 4      460\n",
    "# Name: EDUCATION, dtype: int64"
   ]
  },
  {
   "cell_type": "markdown",
   "metadata": {},
   "source": [
    "Examine and clean marriage feature as well:"
   ]
  },
  {
   "cell_type": "code",
   "execution_count": 12,
   "metadata": {},
   "outputs": [
    {
     "data": {
      "text/plain": [
       "2    15810\n",
       "1    13503\n",
       "3      318\n",
       "0       54\n",
       "Name: MARRIAGE, dtype: int64"
      ]
     },
     "execution_count": 12,
     "metadata": {},
     "output_type": "execute_result"
    }
   ],
   "source": [
    "df_clean['MARRIAGE'].value_counts()\n",
    "# 2    15810\n",
    "# 1    13503\n",
    "# 3      318\n",
    "# 0       54\n",
    "# Name: MARRIAGE, dtype: int64"
   ]
  },
  {
   "cell_type": "code",
   "execution_count": 13,
   "metadata": {},
   "outputs": [],
   "source": [
    "#Should only be (1 = married; 2 = single; 3 = others).\n",
    "df_clean['MARRIAGE'].replace(to_replace=0, value=3, inplace=True)"
   ]
  },
  {
   "cell_type": "code",
   "execution_count": 14,
   "metadata": {},
   "outputs": [
    {
     "data": {
      "text/plain": [
       "2    15810\n",
       "1    13503\n",
       "3      372\n",
       "Name: MARRIAGE, dtype: int64"
      ]
     },
     "execution_count": 14,
     "metadata": {},
     "output_type": "execute_result"
    }
   ],
   "source": [
    "df_clean['MARRIAGE'].value_counts()\n",
    "# 2    15810\n",
    "# 1    13503\n",
    "# 3      372\n",
    "# Name: MARRIAGE, dtype: int64"
   ]
  },
  {
   "cell_type": "markdown",
   "metadata": {},
   "source": [
    "Now instead of removing rows with `PAY_1` = 'Not available', as done in Chapter 1, here select these out for addition to training and testing splits."
   ]
  },
  {
   "cell_type": "code",
   "execution_count": 15,
   "metadata": {},
   "outputs": [
    {
     "data": {
      "text/plain": [
       "0                13087\n",
       "-1                5047\n",
       "1                 3261\n",
       "Not available     3021\n",
       "-2                2476\n",
       "2                 2378\n",
       "3                  292\n",
       "4                   63\n",
       "5                   23\n",
       "8                   17\n",
       "6                   11\n",
       "7                    9\n",
       "Name: PAY_1, dtype: int64"
      ]
     },
     "execution_count": 15,
     "metadata": {},
     "output_type": "execute_result"
    }
   ],
   "source": [
    "df_clean['PAY_1'].value_counts()\n",
    "# 0                13087\n",
    "# -1                5047\n",
    "# 1                 3261\n",
    "# Not available     3021\n",
    "# -2                2476\n",
    "# 2                 2378\n",
    "# 3                  292\n",
    "# 4                   63\n",
    "# 5                   23\n",
    "# 8                   17\n",
    "# 6                   11\n",
    "# 7                    9\n",
    "# Name: PAY_1, dtype: int64"
   ]
  },
  {
   "cell_type": "code",
   "execution_count": 16,
   "metadata": {},
   "outputs": [],
   "source": [
    "missing_pay_1_mask = df_clean['PAY_1'] == 'Not available'"
   ]
  },
  {
   "cell_type": "code",
   "execution_count": 17,
   "metadata": {},
   "outputs": [
    {
     "data": {
      "text/plain": [
       "3021"
      ]
     },
     "execution_count": 17,
     "metadata": {},
     "output_type": "execute_result"
    }
   ],
   "source": [
    "sum(missing_pay_1_mask)\n",
    "# 3021"
   ]
  },
  {
   "cell_type": "code",
   "execution_count": 18,
   "metadata": {},
   "outputs": [],
   "source": [
    "df_missing_pay_1 = df_clean.loc[missing_pay_1_mask,:].copy()"
   ]
  },
  {
   "cell_type": "code",
   "execution_count": 19,
   "metadata": {},
   "outputs": [
    {
     "data": {
      "text/plain": [
       "(3021, 25)"
      ]
     },
     "execution_count": 19,
     "metadata": {},
     "output_type": "execute_result"
    }
   ],
   "source": [
    "df_missing_pay_1.shape\n",
    "# (3021, 25)"
   ]
  },
  {
   "cell_type": "code",
   "execution_count": 20,
   "metadata": {},
   "outputs": [
    {
     "data": {
      "text/plain": [
       "17    Not available\n",
       "28    Not available\n",
       "29    Not available\n",
       "Name: PAY_1, dtype: object"
      ]
     },
     "execution_count": 20,
     "metadata": {},
     "output_type": "execute_result"
    }
   ],
   "source": [
    "df_missing_pay_1['PAY_1'].head(3)"
   ]
  },
  {
   "cell_type": "code",
   "execution_count": 21,
   "metadata": {},
   "outputs": [
    {
     "data": {
      "text/plain": [
       "Not available    3021\n",
       "Name: PAY_1, dtype: int64"
      ]
     },
     "execution_count": 21,
     "metadata": {},
     "output_type": "execute_result"
    }
   ],
   "source": [
    "df_missing_pay_1['PAY_1'].value_counts()"
   ]
  },
  {
   "cell_type": "code",
   "execution_count": 22,
   "metadata": {},
   "outputs": [
    {
     "data": {
      "text/plain": [
       "Index(['ID', 'LIMIT_BAL', 'SEX', 'EDUCATION', 'MARRIAGE', 'AGE', 'PAY_1',\n",
       "       'PAY_2', 'PAY_3', 'PAY_4', 'PAY_5', 'PAY_6', 'BILL_AMT1', 'BILL_AMT2',\n",
       "       'BILL_AMT3', 'BILL_AMT4', 'BILL_AMT5', 'BILL_AMT6', 'PAY_AMT1',\n",
       "       'PAY_AMT2', 'PAY_AMT3', 'PAY_AMT4', 'PAY_AMT5', 'PAY_AMT6',\n",
       "       'default payment next month'],\n",
       "      dtype='object')"
      ]
     },
     "execution_count": 22,
     "metadata": {},
     "output_type": "execute_result"
    }
   ],
   "source": [
    "df_missing_pay_1.columns"
   ]
  },
  {
   "cell_type": "markdown",
   "metadata": {},
   "source": [
    "Load cleaned data"
   ]
  },
  {
   "cell_type": "code",
   "execution_count": 23,
   "metadata": {},
   "outputs": [],
   "source": [
    "df = pd.read_csv('cleaned_data.csv')"
   ]
  },
  {
   "cell_type": "code",
   "execution_count": 24,
   "metadata": {},
   "outputs": [
    {
     "data": {
      "text/plain": [
       "Index(['ID', 'LIMIT_BAL', 'SEX', 'EDUCATION', 'MARRIAGE', 'AGE', 'PAY_1',\n",
       "       'PAY_2', 'PAY_3', 'PAY_4', 'PAY_5', 'PAY_6', 'BILL_AMT1', 'BILL_AMT2',\n",
       "       'BILL_AMT3', 'BILL_AMT4', 'BILL_AMT5', 'BILL_AMT6', 'PAY_AMT1',\n",
       "       'PAY_AMT2', 'PAY_AMT3', 'PAY_AMT4', 'PAY_AMT5', 'PAY_AMT6',\n",
       "       'default payment next month', 'EDUCATION_CAT', 'graduate school',\n",
       "       'high school', 'others', 'university'],\n",
       "      dtype='object')"
      ]
     },
     "execution_count": 24,
     "metadata": {},
     "output_type": "execute_result"
    }
   ],
   "source": [
    "df.columns"
   ]
  },
  {
   "cell_type": "code",
   "execution_count": 25,
   "metadata": {},
   "outputs": [],
   "source": [
    "features_response = df.columns.tolist()"
   ]
  },
  {
   "cell_type": "code",
   "execution_count": 26,
   "metadata": {},
   "outputs": [],
   "source": [
    "items_to_remove = ['ID', 'SEX', 'PAY_2', 'PAY_3', 'PAY_4', 'PAY_5', 'PAY_6',\n",
    "                   'EDUCATION_CAT', 'graduate school', 'high school', 'none',\n",
    "                   'others', 'university']"
   ]
  },
  {
   "cell_type": "code",
   "execution_count": 27,
   "metadata": {},
   "outputs": [
    {
     "data": {
      "text/plain": [
       "['LIMIT_BAL',\n",
       " 'EDUCATION',\n",
       " 'MARRIAGE',\n",
       " 'AGE',\n",
       " 'PAY_1',\n",
       " 'BILL_AMT1',\n",
       " 'BILL_AMT2',\n",
       " 'BILL_AMT3',\n",
       " 'BILL_AMT4',\n",
       " 'BILL_AMT5',\n",
       " 'BILL_AMT6',\n",
       " 'PAY_AMT1',\n",
       " 'PAY_AMT2',\n",
       " 'PAY_AMT3',\n",
       " 'PAY_AMT4',\n",
       " 'PAY_AMT5',\n",
       " 'PAY_AMT6',\n",
       " 'default payment next month']"
      ]
     },
     "execution_count": 27,
     "metadata": {},
     "output_type": "execute_result"
    }
   ],
   "source": [
    "features_response = [item for item in features_response if item not in items_to_remove]\n",
    "features_response"
   ]
  },
  {
   "cell_type": "markdown",
   "metadata": {},
   "source": [
    "##### Mode and Random Imputation of `PAY_1`"
   ]
  },
  {
   "cell_type": "code",
   "execution_count": 28,
   "metadata": {},
   "outputs": [],
   "source": [
    "from sklearn.model_selection import train_test_split"
   ]
  },
  {
   "cell_type": "code",
   "execution_count": 29,
   "metadata": {},
   "outputs": [],
   "source": [
    "X_train, X_test, y_train, y_test = \\\n",
    "train_test_split(df[features_response[:-1]].values, df['default payment next month'].values,\n",
    "test_size=0.2, random_state=24)"
   ]
  },
  {
   "cell_type": "code",
   "execution_count": 30,
   "metadata": {},
   "outputs": [
    {
     "name": "stdout",
     "output_type": "stream",
     "text": [
      "(21331, 17)\n",
      "(5333, 17)\n",
      "(21331,)\n",
      "(5333,)\n"
     ]
    }
   ],
   "source": [
    "print(X_train.shape)\n",
    "print(X_test.shape)\n",
    "print(y_train.shape)\n",
    "print(y_test.shape)\n",
    "# (21331, 17)\n",
    "# (5333, 17)\n",
    "# (21331,)\n",
    "# (5333,)"
   ]
  },
  {
   "cell_type": "code",
   "execution_count": 31,
   "metadata": {},
   "outputs": [
    {
     "data": {
      "text/plain": [
       "(3021, 25)"
      ]
     },
     "execution_count": 31,
     "metadata": {},
     "output_type": "execute_result"
    }
   ],
   "source": [
    "df_missing_pay_1.shape"
   ]
  },
  {
   "cell_type": "code",
   "execution_count": 32,
   "metadata": {},
   "outputs": [
    {
     "data": {
      "text/plain": [
       "'PAY_1'"
      ]
     },
     "execution_count": 32,
     "metadata": {},
     "output_type": "execute_result"
    }
   ],
   "source": [
    "features_response[4]"
   ]
  },
  {
   "cell_type": "code",
   "execution_count": 33,
   "metadata": {},
   "outputs": [
    {
     "data": {
      "text/plain": [
       "0.0"
      ]
     },
     "execution_count": 33,
     "metadata": {},
     "output_type": "execute_result"
    }
   ],
   "source": [
    "np.median(X_train[:,4])"
   ]
  },
  {
   "cell_type": "code",
   "execution_count": 34,
   "metadata": {},
   "outputs": [],
   "source": [
    "np.random.seed(seed=1)\n",
    "fill_values = [0, np.random.choice(X_train[:,4], size=(3021,), replace=True)]"
   ]
  },
  {
   "cell_type": "code",
   "execution_count": 35,
   "metadata": {},
   "outputs": [],
   "source": [
    "fill_strategy = ['mode', 'random']"
   ]
  },
  {
   "cell_type": "code",
   "execution_count": 36,
   "metadata": {},
   "outputs": [
    {
     "data": {
      "text/plain": [
       "array([ 0,  0,  0, ...,  2,  0, -2], dtype=int64)"
      ]
     },
     "execution_count": 36,
     "metadata": {},
     "output_type": "execute_result"
    }
   ],
   "source": [
    "fill_values[-1]"
   ]
  },
  {
   "cell_type": "code",
   "execution_count": 37,
   "metadata": {},
   "outputs": [
    {
     "data": {
      "image/png": "[encoded data removed]",
      "text/plain": [
       "<Figure size 3200x1200 with 2 Axes>"
      ]
     },
     "metadata": {
      "needs_background": "light"
     },
     "output_type": "display_data"
    }
   ],
   "source": [
    "fig, axs = plt.subplots(1,2, figsize=(8,3))\n",
    "bin_edges = np.arange(-2,9)\n",
    "axs[0].hist(X_train[:,4], bins=bin_edges, align='left')\n",
    "axs[0].set_xticks(bin_edges)\n",
    "axs[0].set_title('Non-missing values of PAY_1')\n",
    "axs[1].hist(fill_values[-1], bins=bin_edges, align='left')\n",
    "axs[1].set_xticks(bin_edges)\n",
    "axs[1].set_title('Random selection for imputation')\n",
    "plt.tight_layout()"
   ]
  },
  {
   "cell_type": "markdown",
   "metadata": {},
   "source": [
    "To do cross-validation on the training set, now we need to shuffle since all the samples with missing `PAY_1` were concatenated on to the end."
   ]
  },
  {
   "cell_type": "code",
   "execution_count": 38,
   "metadata": {},
   "outputs": [],
   "source": [
    "from sklearn.model_selection import KFold"
   ]
  },
  {
   "cell_type": "code",
   "execution_count": 39,
   "metadata": {},
   "outputs": [],
   "source": [
    "k_folds = KFold(n_splits=4, shuffle=True, random_state=1)"
   ]
  },
  {
   "cell_type": "markdown",
   "metadata": {},
   "source": [
    "Don't need to do a grid search, so we can use `cross_validate`"
   ]
  },
  {
   "cell_type": "code",
   "execution_count": 40,
   "metadata": {},
   "outputs": [],
   "source": [
    "from sklearn.model_selection import cross_validate"
   ]
  },
  {
   "cell_type": "markdown",
   "metadata": {},
   "source": [
    "For the estimator, set the optimal hyperparameters determined in previous chapter."
   ]
  },
  {
   "cell_type": "code",
   "execution_count": 41,
   "metadata": {},
   "outputs": [],
   "source": [
    "from sklearn.ensemble import RandomForestClassifier"
   ]
  },
  {
   "cell_type": "code",
   "execution_count": 42,
   "metadata": {},
   "outputs": [],
   "source": [
    "rf = RandomForestClassifier\\\n",
    "(n_estimators=200, criterion='gini', max_depth=9,\n",
    "min_samples_split=2, min_samples_leaf=1, min_weight_fraction_leaf=0.0,\n",
    "max_features='auto', max_leaf_nodes=None, min_impurity_decrease=0.0,\n",
    "min_impurity_split=None, bootstrap=True, oob_score=False, n_jobs=None,\n",
    "random_state=4, verbose=1, warm_start=False, class_weight=None)"
   ]
  },
  {
   "cell_type": "code",
   "execution_count": 43,
   "metadata": {},
   "outputs": [
    {
     "name": "stderr",
     "output_type": "stream",
     "text": [
      "[Parallel(n_jobs=-1)]: Using backend LokyBackend with 4 concurrent workers.\n",
      "[Parallel(n_jobs=-1)]: Done   2 out of   4 | elapsed:   18.8s remaining:   18.8s\n",
      "[Parallel(n_jobs=-1)]: Done   4 out of   4 | elapsed:   18.9s finished\n",
      "[Parallel(n_jobs=-1)]: Using backend LokyBackend with 4 concurrent workers.\n"
     ]
    },
    {
     "name": "stdout",
     "output_type": "stream",
     "text": [
      "mode imputation: mean testing score 0.772866246168149, std 0.0031479941297533737\n",
      "random imputation: mean testing score 0.7692540439833129, std 0.003660875187678248\n"
     ]
    },
    {
     "name": "stderr",
     "output_type": "stream",
     "text": [
      "[Parallel(n_jobs=-1)]: Done   2 out of   4 | elapsed:   17.2s remaining:   17.2s\n",
      "[Parallel(n_jobs=-1)]: Done   4 out of   4 | elapsed:   17.4s finished\n"
     ]
    }
   ],
   "source": [
    "for counter in range(len(fill_values)):\n",
    "    #Copy the data frame with missing PAY_1 and assign imputed values\n",
    "    df_fill_pay_1_filled = df_missing_pay_1.copy()\n",
    "    df_fill_pay_1_filled['PAY_1'] = fill_values[counter]\n",
    "    \n",
    "    #Split imputed data in to training and testing, using the same\n",
    "    #80/20 split we have used for the data with non-missing PAY_1\n",
    "    X_fill_pay_1_train, X_fill_pay_1_test, y_fill_pay_1_train, y_fill_pay_1_test = \\\n",
    "    train_test_split(\n",
    "        df_fill_pay_1_filled[features_response[:-1]].values,\n",
    "        df_fill_pay_1_filled['default payment next month'].values,\n",
    "    test_size=0.2, random_state=24)\n",
    "    \n",
    "    #Concatenate the imputed data with the array of non-missing data\n",
    "    X_train_all = np.concatenate((X_train, X_fill_pay_1_train), axis=0)\n",
    "    y_train_all = np.concatenate((y_train, y_fill_pay_1_train), axis=0)\n",
    "    \n",
    "    #Use the KFolds splitter and the random forest model to get\n",
    "    #4-fold cross-validation scores for both imputation methods\n",
    "    imputation_compare_cv = cross_validate(rf, X_train_all, y_train_all, scoring='roc_auc',\n",
    "                                       cv=k_folds, n_jobs=-1, verbose=1,\n",
    "                                       return_train_score=True, return_estimator=True,\n",
    "                                       error_score='raise-deprecating')\n",
    "    \n",
    "    test_score = imputation_compare_cv['test_score']\n",
    "    print(fill_strategy[counter] + ' imputation: ' +\n",
    "          'mean testing score ' + str(np.mean(test_score)) +\n",
    "          ', std ' + str(np.std(test_score)))"
   ]
  },
  {
   "cell_type": "markdown",
   "metadata": {},
   "source": [
    "##### A Predictive Model for `PAY_1`"
   ]
  },
  {
   "cell_type": "code",
   "execution_count": 44,
   "metadata": {},
   "outputs": [],
   "source": [
    "pay_1_df = df.copy()"
   ]
  },
  {
   "cell_type": "code",
   "execution_count": 45,
   "metadata": {},
   "outputs": [],
   "source": [
    "features_for_imputation = pay_1_df.columns.tolist()"
   ]
  },
  {
   "cell_type": "code",
   "execution_count": 46,
   "metadata": {},
   "outputs": [],
   "source": [
    "items_to_remove_2 = ['ID', 'SEX', 'PAY_2', 'PAY_3', 'PAY_4', 'PAY_5', 'PAY_6',\n",
    "                   'EDUCATION_CAT', 'graduate school', 'high school', 'none',\n",
    "                   'others', 'university', 'default payment next month', 'PAY_1']"
   ]
  },
  {
   "cell_type": "code",
   "execution_count": 47,
   "metadata": {},
   "outputs": [
    {
     "data": {
      "text/plain": [
       "['LIMIT_BAL',\n",
       " 'EDUCATION',\n",
       " 'MARRIAGE',\n",
       " 'AGE',\n",
       " 'BILL_AMT1',\n",
       " 'BILL_AMT2',\n",
       " 'BILL_AMT3',\n",
       " 'BILL_AMT4',\n",
       " 'BILL_AMT5',\n",
       " 'BILL_AMT6',\n",
       " 'PAY_AMT1',\n",
       " 'PAY_AMT2',\n",
       " 'PAY_AMT3',\n",
       " 'PAY_AMT4',\n",
       " 'PAY_AMT5',\n",
       " 'PAY_AMT6']"
      ]
     },
     "execution_count": 47,
     "metadata": {},
     "output_type": "execute_result"
    }
   ],
   "source": [
    "features_for_imputation = [item for item in features_for_imputation if item not in items_to_remove_2]\n",
    "features_for_imputation"
   ]
  },
  {
   "cell_type": "markdown",
   "metadata": {},
   "source": [
    "##### Building a Multiclass Classification Model for Imputation"
   ]
  },
  {
   "cell_type": "code",
   "execution_count": 48,
   "metadata": {},
   "outputs": [],
   "source": [
    "X_impute_train, X_impute_test, y_impute_train, y_impute_test = \\\n",
    "train_test_split(\n",
    "    pay_1_df[features_for_imputation].values,\n",
    "    pay_1_df['PAY_1'].values,\n",
    "test_size=0.2, random_state=24)"
   ]
  },
  {
   "cell_type": "code",
   "execution_count": 49,
   "metadata": {},
   "outputs": [],
   "source": [
    "rf_impute_params = {'max_depth':[3, 6, 9, 12],\n",
    "             'n_estimators':[10, 50, 100, 200]}"
   ]
  },
  {
   "cell_type": "code",
   "execution_count": 50,
   "metadata": {},
   "outputs": [],
   "source": [
    "from sklearn.model_selection import GridSearchCV"
   ]
  },
  {
   "cell_type": "markdown",
   "metadata": {},
   "source": [
    "Need to use accuracy here as ROC AUC is not supported for multiclass. Need to use multiclass and not regression because need to limit to integer values of `PAY_1`."
   ]
  },
  {
   "cell_type": "code",
   "execution_count": 51,
   "metadata": {},
   "outputs": [],
   "source": [
    "cv_rf_impute = GridSearchCV(rf, param_grid=rf_impute_params, scoring='accuracy',\n",
    "                            n_jobs=-1, iid=False, refit=True,\n",
    "                            cv=4, verbose=2, error_score=np.nan, return_train_score=True)"
   ]
  },
  {
   "cell_type": "code",
   "execution_count": 52,
   "metadata": {
    "scrolled": true
   },
   "outputs": [
    {
     "name": "stdout",
     "output_type": "stream",
     "text": [
      "Fitting 4 folds for each of 16 candidates, totalling 64 fits\n"
     ]
    },
    {
     "name": "stderr",
     "output_type": "stream",
     "text": [
      "[Parallel(n_jobs=-1)]: Using backend LokyBackend with 4 concurrent workers.\n",
      "[Parallel(n_jobs=-1)]: Done  33 tasks      | elapsed:   39.0s\n",
      "[Parallel(n_jobs=-1)]: Done  64 out of  64 | elapsed:  1.8min finished\n",
      "C:\\Users\\Dell\\AppData\\Roaming\\Python\\Python37\\site-packages\\sklearn\\model_selection\\_search.py:849: FutureWarning: The parameter 'iid' is deprecated in 0.22 and will be removed in 0.24.\n",
      "  \"removed in 0.24.\", FutureWarning\n",
      "[Parallel(n_jobs=1)]: Using backend SequentialBackend with 1 concurrent workers.\n",
      "[Parallel(n_jobs=1)]: Done 200 out of 200 | elapsed:   15.4s finished\n"
     ]
    },
    {
     "data": {
      "text/plain": [
       "GridSearchCV(cv=4,\n",
       "             estimator=RandomForestClassifier(max_depth=9, n_estimators=200,\n",
       "                                              random_state=4, verbose=1),\n",
       "             iid=False, n_jobs=-1,\n",
       "             param_grid={'max_depth': [3, 6, 9, 12],\n",
       "                         'n_estimators': [10, 50, 100, 200]},\n",
       "             return_train_score=True, scoring='accuracy', verbose=2)"
      ]
     },
     "execution_count": 52,
     "metadata": {},
     "output_type": "execute_result"
    }
   ],
   "source": [
    "cv_rf_impute.fit(X_impute_train, y_impute_train)"
   ]
  },
  {
   "cell_type": "code",
   "execution_count": 53,
   "metadata": {
    "scrolled": true
   },
   "outputs": [
    {
     "data": {
      "text/html": [
       "<div>\n",
       "<style scoped>\n",
       "    .dataframe tbody tr th:only-of-type {\n",
       "        vertical-align: middle;\n",
       "    }\n",
       "\n",
       "    .dataframe tbody tr th {\n",
       "        vertical-align: top;\n",
       "    }\n",
       "\n",
       "    .dataframe thead th {\n",
       "        text-align: right;\n",
       "    }\n",
       "</style>\n",
       "<table border=\"1\" class=\"dataframe\">\n",
       "  <thead>\n",
       "    <tr style=\"text-align: right;\">\n",
       "      <th></th>\n",
       "      <th>mean_fit_time</th>\n",
       "      <th>std_fit_time</th>\n",
       "      <th>mean_score_time</th>\n",
       "      <th>std_score_time</th>\n",
       "      <th>param_max_depth</th>\n",
       "      <th>param_n_estimators</th>\n",
       "      <th>params</th>\n",
       "      <th>split0_test_score</th>\n",
       "      <th>split1_test_score</th>\n",
       "      <th>split2_test_score</th>\n",
       "      <th>split3_test_score</th>\n",
       "      <th>mean_test_score</th>\n",
       "      <th>std_test_score</th>\n",
       "      <th>rank_test_score</th>\n",
       "      <th>split0_train_score</th>\n",
       "      <th>split1_train_score</th>\n",
       "      <th>split2_train_score</th>\n",
       "      <th>split3_train_score</th>\n",
       "      <th>mean_train_score</th>\n",
       "      <th>std_train_score</th>\n",
       "    </tr>\n",
       "  </thead>\n",
       "  <tbody>\n",
       "    <tr>\n",
       "      <th>0</th>\n",
       "      <td>0.371155</td>\n",
       "      <td>0.010285</td>\n",
       "      <td>0.021266</td>\n",
       "      <td>0.001786</td>\n",
       "      <td>3</td>\n",
       "      <td>10</td>\n",
       "      <td>{'max_depth': 3, 'n_estimators': 10}</td>\n",
       "      <td>0.664729</td>\n",
       "      <td>0.669417</td>\n",
       "      <td>0.671479</td>\n",
       "      <td>0.664291</td>\n",
       "      <td>0.667479</td>\n",
       "      <td>0.003061</td>\n",
       "      <td>15</td>\n",
       "      <td>0.669396</td>\n",
       "      <td>0.670146</td>\n",
       "      <td>0.665146</td>\n",
       "      <td>0.670042</td>\n",
       "      <td>0.668682</td>\n",
       "      <td>0.002062</td>\n",
       "    </tr>\n",
       "    <tr>\n",
       "      <th>1</th>\n",
       "      <td>1.719971</td>\n",
       "      <td>0.042301</td>\n",
       "      <td>0.091440</td>\n",
       "      <td>0.016995</td>\n",
       "      <td>3</td>\n",
       "      <td>50</td>\n",
       "      <td>{'max_depth': 3, 'n_estimators': 50}</td>\n",
       "      <td>0.657979</td>\n",
       "      <td>0.660229</td>\n",
       "      <td>0.660604</td>\n",
       "      <td>0.651350</td>\n",
       "      <td>0.657540</td>\n",
       "      <td>0.003712</td>\n",
       "      <td>16</td>\n",
       "      <td>0.664521</td>\n",
       "      <td>0.657145</td>\n",
       "      <td>0.654082</td>\n",
       "      <td>0.660854</td>\n",
       "      <td>0.659150</td>\n",
       "      <td>0.003920</td>\n",
       "    </tr>\n",
       "    <tr>\n",
       "      <th>2</th>\n",
       "      <td>3.790710</td>\n",
       "      <td>0.022707</td>\n",
       "      <td>0.246302</td>\n",
       "      <td>0.031074</td>\n",
       "      <td>3</td>\n",
       "      <td>100</td>\n",
       "      <td>{'max_depth': 3, 'n_estimators': 100}</td>\n",
       "      <td>0.672605</td>\n",
       "      <td>0.673542</td>\n",
       "      <td>0.675792</td>\n",
       "      <td>0.667854</td>\n",
       "      <td>0.672448</td>\n",
       "      <td>0.002894</td>\n",
       "      <td>13</td>\n",
       "      <td>0.677835</td>\n",
       "      <td>0.675147</td>\n",
       "      <td>0.670521</td>\n",
       "      <td>0.676167</td>\n",
       "      <td>0.674918</td>\n",
       "      <td>0.002713</td>\n",
       "    </tr>\n",
       "    <tr>\n",
       "      <th>3</th>\n",
       "      <td>6.866251</td>\n",
       "      <td>0.057832</td>\n",
       "      <td>0.353377</td>\n",
       "      <td>0.032628</td>\n",
       "      <td>3</td>\n",
       "      <td>200</td>\n",
       "      <td>{'max_depth': 3, 'n_estimators': 200}</td>\n",
       "      <td>0.664917</td>\n",
       "      <td>0.666042</td>\n",
       "      <td>0.675792</td>\n",
       "      <td>0.666354</td>\n",
       "      <td>0.668276</td>\n",
       "      <td>0.004372</td>\n",
       "      <td>14</td>\n",
       "      <td>0.672334</td>\n",
       "      <td>0.668896</td>\n",
       "      <td>0.669021</td>\n",
       "      <td>0.672605</td>\n",
       "      <td>0.670714</td>\n",
       "      <td>0.001758</td>\n",
       "    </tr>\n",
       "    <tr>\n",
       "      <th>4</th>\n",
       "      <td>0.651963</td>\n",
       "      <td>0.037661</td>\n",
       "      <td>0.026018</td>\n",
       "      <td>0.010168</td>\n",
       "      <td>6</td>\n",
       "      <td>10</td>\n",
       "      <td>{'max_depth': 6, 'n_estimators': 10}</td>\n",
       "      <td>0.710294</td>\n",
       "      <td>0.706919</td>\n",
       "      <td>0.713482</td>\n",
       "      <td>0.700675</td>\n",
       "      <td>0.707843</td>\n",
       "      <td>0.004744</td>\n",
       "      <td>12</td>\n",
       "      <td>0.717027</td>\n",
       "      <td>0.717027</td>\n",
       "      <td>0.718465</td>\n",
       "      <td>0.711607</td>\n",
       "      <td>0.716032</td>\n",
       "      <td>0.002621</td>\n",
       "    </tr>\n",
       "    <tr>\n",
       "      <th>5</th>\n",
       "      <td>2.546308</td>\n",
       "      <td>0.021692</td>\n",
       "      <td>0.095694</td>\n",
       "      <td>0.014198</td>\n",
       "      <td>6</td>\n",
       "      <td>50</td>\n",
       "      <td>{'max_depth': 6, 'n_estimators': 50}</td>\n",
       "      <td>0.708419</td>\n",
       "      <td>0.709732</td>\n",
       "      <td>0.713107</td>\n",
       "      <td>0.703863</td>\n",
       "      <td>0.708780</td>\n",
       "      <td>0.003314</td>\n",
       "      <td>11</td>\n",
       "      <td>0.716652</td>\n",
       "      <td>0.716090</td>\n",
       "      <td>0.719777</td>\n",
       "      <td>0.715982</td>\n",
       "      <td>0.717125</td>\n",
       "      <td>0.001552</td>\n",
       "    </tr>\n",
       "    <tr>\n",
       "      <th>6</th>\n",
       "      <td>5.302266</td>\n",
       "      <td>0.038843</td>\n",
       "      <td>0.183380</td>\n",
       "      <td>0.024168</td>\n",
       "      <td>6</td>\n",
       "      <td>100</td>\n",
       "      <td>{'max_depth': 6, 'n_estimators': 100}</td>\n",
       "      <td>0.709544</td>\n",
       "      <td>0.709544</td>\n",
       "      <td>0.714420</td>\n",
       "      <td>0.705926</td>\n",
       "      <td>0.709859</td>\n",
       "      <td>0.003019</td>\n",
       "      <td>10</td>\n",
       "      <td>0.718777</td>\n",
       "      <td>0.716777</td>\n",
       "      <td>0.719152</td>\n",
       "      <td>0.718420</td>\n",
       "      <td>0.718282</td>\n",
       "      <td>0.000906</td>\n",
       "    </tr>\n",
       "    <tr>\n",
       "      <th>7</th>\n",
       "      <td>10.509589</td>\n",
       "      <td>0.046693</td>\n",
       "      <td>0.354377</td>\n",
       "      <td>0.028445</td>\n",
       "      <td>6</td>\n",
       "      <td>200</td>\n",
       "      <td>{'max_depth': 6, 'n_estimators': 200}</td>\n",
       "      <td>0.710669</td>\n",
       "      <td>0.709357</td>\n",
       "      <td>0.715170</td>\n",
       "      <td>0.705551</td>\n",
       "      <td>0.710187</td>\n",
       "      <td>0.003436</td>\n",
       "      <td>9</td>\n",
       "      <td>0.719152</td>\n",
       "      <td>0.717652</td>\n",
       "      <td>0.719715</td>\n",
       "      <td>0.718107</td>\n",
       "      <td>0.718657</td>\n",
       "      <td>0.000818</td>\n",
       "    </tr>\n",
       "    <tr>\n",
       "      <th>8</th>\n",
       "      <td>0.743402</td>\n",
       "      <td>0.016661</td>\n",
       "      <td>0.038903</td>\n",
       "      <td>0.027279</td>\n",
       "      <td>9</td>\n",
       "      <td>10</td>\n",
       "      <td>{'max_depth': 9, 'n_estimators': 10}</td>\n",
       "      <td>0.719670</td>\n",
       "      <td>0.725858</td>\n",
       "      <td>0.721920</td>\n",
       "      <td>0.720743</td>\n",
       "      <td>0.722048</td>\n",
       "      <td>0.002339</td>\n",
       "      <td>7</td>\n",
       "      <td>0.767721</td>\n",
       "      <td>0.773722</td>\n",
       "      <td>0.767221</td>\n",
       "      <td>0.771611</td>\n",
       "      <td>0.770069</td>\n",
       "      <td>0.002709</td>\n",
       "    </tr>\n",
       "    <tr>\n",
       "      <th>9</th>\n",
       "      <td>4.035615</td>\n",
       "      <td>0.074578</td>\n",
       "      <td>0.188634</td>\n",
       "      <td>0.049751</td>\n",
       "      <td>9</td>\n",
       "      <td>50</td>\n",
       "      <td>{'max_depth': 9, 'n_estimators': 50}</td>\n",
       "      <td>0.726608</td>\n",
       "      <td>0.728296</td>\n",
       "      <td>0.725858</td>\n",
       "      <td>0.731808</td>\n",
       "      <td>0.728142</td>\n",
       "      <td>0.002293</td>\n",
       "      <td>6</td>\n",
       "      <td>0.770284</td>\n",
       "      <td>0.774347</td>\n",
       "      <td>0.771471</td>\n",
       "      <td>0.770611</td>\n",
       "      <td>0.771678</td>\n",
       "      <td>0.001601</td>\n",
       "    </tr>\n",
       "    <tr>\n",
       "      <th>10</th>\n",
       "      <td>8.291138</td>\n",
       "      <td>0.031901</td>\n",
       "      <td>0.268817</td>\n",
       "      <td>0.033597</td>\n",
       "      <td>9</td>\n",
       "      <td>100</td>\n",
       "      <td>{'max_depth': 9, 'n_estimators': 100}</td>\n",
       "      <td>0.728483</td>\n",
       "      <td>0.726608</td>\n",
       "      <td>0.725858</td>\n",
       "      <td>0.732371</td>\n",
       "      <td>0.728330</td>\n",
       "      <td>0.002521</td>\n",
       "      <td>5</td>\n",
       "      <td>0.770284</td>\n",
       "      <td>0.772534</td>\n",
       "      <td>0.775409</td>\n",
       "      <td>0.770298</td>\n",
       "      <td>0.772131</td>\n",
       "      <td>0.002103</td>\n",
       "    </tr>\n",
       "    <tr>\n",
       "      <th>11</th>\n",
       "      <td>16.845462</td>\n",
       "      <td>0.113720</td>\n",
       "      <td>0.440564</td>\n",
       "      <td>0.048382</td>\n",
       "      <td>9</td>\n",
       "      <td>200</td>\n",
       "      <td>{'max_depth': 9, 'n_estimators': 200}</td>\n",
       "      <td>0.729608</td>\n",
       "      <td>0.726983</td>\n",
       "      <td>0.726045</td>\n",
       "      <td>0.731808</td>\n",
       "      <td>0.728611</td>\n",
       "      <td>0.002261</td>\n",
       "      <td>4</td>\n",
       "      <td>0.771409</td>\n",
       "      <td>0.773472</td>\n",
       "      <td>0.775534</td>\n",
       "      <td>0.770361</td>\n",
       "      <td>0.772694</td>\n",
       "      <td>0.001986</td>\n",
       "    </tr>\n",
       "    <tr>\n",
       "      <th>12</th>\n",
       "      <td>0.990953</td>\n",
       "      <td>0.048743</td>\n",
       "      <td>0.025769</td>\n",
       "      <td>0.001889</td>\n",
       "      <td>12</td>\n",
       "      <td>10</td>\n",
       "      <td>{'max_depth': 12, 'n_estimators': 10}</td>\n",
       "      <td>0.721170</td>\n",
       "      <td>0.716670</td>\n",
       "      <td>0.719295</td>\n",
       "      <td>0.719617</td>\n",
       "      <td>0.719188</td>\n",
       "      <td>0.001618</td>\n",
       "      <td>8</td>\n",
       "      <td>0.835792</td>\n",
       "      <td>0.850919</td>\n",
       "      <td>0.845668</td>\n",
       "      <td>0.847053</td>\n",
       "      <td>0.844858</td>\n",
       "      <td>0.005577</td>\n",
       "    </tr>\n",
       "    <tr>\n",
       "      <th>13</th>\n",
       "      <td>5.142027</td>\n",
       "      <td>0.010792</td>\n",
       "      <td>0.115582</td>\n",
       "      <td>0.009721</td>\n",
       "      <td>12</td>\n",
       "      <td>50</td>\n",
       "      <td>{'max_depth': 12, 'n_estimators': 50}</td>\n",
       "      <td>0.734858</td>\n",
       "      <td>0.728858</td>\n",
       "      <td>0.729046</td>\n",
       "      <td>0.732558</td>\n",
       "      <td>0.731330</td>\n",
       "      <td>0.002514</td>\n",
       "      <td>3</td>\n",
       "      <td>0.854732</td>\n",
       "      <td>0.860983</td>\n",
       "      <td>0.862233</td>\n",
       "      <td>0.858741</td>\n",
       "      <td>0.859172</td>\n",
       "      <td>0.002853</td>\n",
       "    </tr>\n",
       "    <tr>\n",
       "      <th>14</th>\n",
       "      <td>9.202159</td>\n",
       "      <td>0.080771</td>\n",
       "      <td>0.255057</td>\n",
       "      <td>0.016383</td>\n",
       "      <td>12</td>\n",
       "      <td>100</td>\n",
       "      <td>{'max_depth': 12, 'n_estimators': 100}</td>\n",
       "      <td>0.731858</td>\n",
       "      <td>0.731296</td>\n",
       "      <td>0.731483</td>\n",
       "      <td>0.734246</td>\n",
       "      <td>0.732221</td>\n",
       "      <td>0.001187</td>\n",
       "      <td>2</td>\n",
       "      <td>0.858545</td>\n",
       "      <td>0.860545</td>\n",
       "      <td>0.864671</td>\n",
       "      <td>0.860116</td>\n",
       "      <td>0.860969</td>\n",
       "      <td>0.002263</td>\n",
       "    </tr>\n",
       "    <tr>\n",
       "      <th>15</th>\n",
       "      <td>18.093348</td>\n",
       "      <td>0.096039</td>\n",
       "      <td>0.510990</td>\n",
       "      <td>0.010837</td>\n",
       "      <td>12</td>\n",
       "      <td>200</td>\n",
       "      <td>{'max_depth': 12, 'n_estimators': 200}</td>\n",
       "      <td>0.734858</td>\n",
       "      <td>0.731858</td>\n",
       "      <td>0.733546</td>\n",
       "      <td>0.737434</td>\n",
       "      <td>0.734424</td>\n",
       "      <td>0.002037</td>\n",
       "      <td>1</td>\n",
       "      <td>0.858920</td>\n",
       "      <td>0.861608</td>\n",
       "      <td>0.863358</td>\n",
       "      <td>0.861554</td>\n",
       "      <td>0.861360</td>\n",
       "      <td>0.001585</td>\n",
       "    </tr>\n",
       "  </tbody>\n",
       "</table>\n",
       "</div>"
      ],
      "text/plain": [
       "    mean_fit_time  std_fit_time  mean_score_time  std_score_time  \\\n",
       "0        0.371155      0.010285         0.021266        0.001786   \n",
       "1        1.719971      0.042301         0.091440        0.016995   \n",
       "2        3.790710      0.022707         0.246302        0.031074   \n",
       "3        6.866251      0.057832         0.353377        0.032628   \n",
       "4        0.651963      0.037661         0.026018        0.010168   \n",
       "5        2.546308      0.021692         0.095694        0.014198   \n",
       "6        5.302266      0.038843         0.183380        0.024168   \n",
       "7       10.509589      0.046693         0.354377        0.028445   \n",
       "8        0.743402      0.016661         0.038903        0.027279   \n",
       "9        4.035615      0.074578         0.188634        0.049751   \n",
       "10       8.291138      0.031901         0.268817        0.033597   \n",
       "11      16.845462      0.113720         0.440564        0.048382   \n",
       "12       0.990953      0.048743         0.025769        0.001889   \n",
       "13       5.142027      0.010792         0.115582        0.009721   \n",
       "14       9.202159      0.080771         0.255057        0.016383   \n",
       "15      18.093348      0.096039         0.510990        0.010837   \n",
       "\n",
       "   param_max_depth param_n_estimators                                  params  \\\n",
       "0                3                 10    {'max_depth': 3, 'n_estimators': 10}   \n",
       "1                3                 50    {'max_depth': 3, 'n_estimators': 50}   \n",
       "2                3                100   {'max_depth': 3, 'n_estimators': 100}   \n",
       "3                3                200   {'max_depth': 3, 'n_estimators': 200}   \n",
       "4                6                 10    {'max_depth': 6, 'n_estimators': 10}   \n",
       "5                6                 50    {'max_depth': 6, 'n_estimators': 50}   \n",
       "6                6                100   {'max_depth': 6, 'n_estimators': 100}   \n",
       "7                6                200   {'max_depth': 6, 'n_estimators': 200}   \n",
       "8                9                 10    {'max_depth': 9, 'n_estimators': 10}   \n",
       "9                9                 50    {'max_depth': 9, 'n_estimators': 50}   \n",
       "10               9                100   {'max_depth': 9, 'n_estimators': 100}   \n",
       "11               9                200   {'max_depth': 9, 'n_estimators': 200}   \n",
       "12              12                 10   {'max_depth': 12, 'n_estimators': 10}   \n",
       "13              12                 50   {'max_depth': 12, 'n_estimators': 50}   \n",
       "14              12                100  {'max_depth': 12, 'n_estimators': 100}   \n",
       "15              12                200  {'max_depth': 12, 'n_estimators': 200}   \n",
       "\n",
       "    split0_test_score  split1_test_score  split2_test_score  \\\n",
       "0            0.664729           0.669417           0.671479   \n",
       "1            0.657979           0.660229           0.660604   \n",
       "2            0.672605           0.673542           0.675792   \n",
       "3            0.664917           0.666042           0.675792   \n",
       "4            0.710294           0.706919           0.713482   \n",
       "5            0.708419           0.709732           0.713107   \n",
       "6            0.709544           0.709544           0.714420   \n",
       "7            0.710669           0.709357           0.715170   \n",
       "8            0.719670           0.725858           0.721920   \n",
       "9            0.726608           0.728296           0.725858   \n",
       "10           0.728483           0.726608           0.725858   \n",
       "11           0.729608           0.726983           0.726045   \n",
       "12           0.721170           0.716670           0.719295   \n",
       "13           0.734858           0.728858           0.729046   \n",
       "14           0.731858           0.731296           0.731483   \n",
       "15           0.734858           0.731858           0.733546   \n",
       "\n",
       "    split3_test_score  mean_test_score  std_test_score  rank_test_score  \\\n",
       "0            0.664291         0.667479        0.003061               15   \n",
       "1            0.651350         0.657540        0.003712               16   \n",
       "2            0.667854         0.672448        0.002894               13   \n",
       "3            0.666354         0.668276        0.004372               14   \n",
       "4            0.700675         0.707843        0.004744               12   \n",
       "5            0.703863         0.708780        0.003314               11   \n",
       "6            0.705926         0.709859        0.003019               10   \n",
       "7            0.705551         0.710187        0.003436                9   \n",
       "8            0.720743         0.722048        0.002339                7   \n",
       "9            0.731808         0.728142        0.002293                6   \n",
       "10           0.732371         0.728330        0.002521                5   \n",
       "11           0.731808         0.728611        0.002261                4   \n",
       "12           0.719617         0.719188        0.001618                8   \n",
       "13           0.732558         0.731330        0.002514                3   \n",
       "14           0.734246         0.732221        0.001187                2   \n",
       "15           0.737434         0.734424        0.002037                1   \n",
       "\n",
       "    split0_train_score  split1_train_score  split2_train_score  \\\n",
       "0             0.669396            0.670146            0.665146   \n",
       "1             0.664521            0.657145            0.654082   \n",
       "2             0.677835            0.675147            0.670521   \n",
       "3             0.672334            0.668896            0.669021   \n",
       "4             0.717027            0.717027            0.718465   \n",
       "5             0.716652            0.716090            0.719777   \n",
       "6             0.718777            0.716777            0.719152   \n",
       "7             0.719152            0.717652            0.719715   \n",
       "8             0.767721            0.773722            0.767221   \n",
       "9             0.770284            0.774347            0.771471   \n",
       "10            0.770284            0.772534            0.775409   \n",
       "11            0.771409            0.773472            0.775534   \n",
       "12            0.835792            0.850919            0.845668   \n",
       "13            0.854732            0.860983            0.862233   \n",
       "14            0.858545            0.860545            0.864671   \n",
       "15            0.858920            0.861608            0.863358   \n",
       "\n",
       "    split3_train_score  mean_train_score  std_train_score  \n",
       "0             0.670042          0.668682         0.002062  \n",
       "1             0.660854          0.659150         0.003920  \n",
       "2             0.676167          0.674918         0.002713  \n",
       "3             0.672605          0.670714         0.001758  \n",
       "4             0.711607          0.716032         0.002621  \n",
       "5             0.715982          0.717125         0.001552  \n",
       "6             0.718420          0.718282         0.000906  \n",
       "7             0.718107          0.718657         0.000818  \n",
       "8             0.771611          0.770069         0.002709  \n",
       "9             0.770611          0.771678         0.001601  \n",
       "10            0.770298          0.772131         0.002103  \n",
       "11            0.770361          0.772694         0.001986  \n",
       "12            0.847053          0.844858         0.005577  \n",
       "13            0.858741          0.859172         0.002853  \n",
       "14            0.860116          0.860969         0.002263  \n",
       "15            0.861554          0.861360         0.001585  "
      ]
     },
     "execution_count": 53,
     "metadata": {},
     "output_type": "execute_result"
    }
   ],
   "source": [
    "impute_df = pd.DataFrame(cv_rf_impute.cv_results_)\n",
    "impute_df"
   ]
  },
  {
   "cell_type": "code",
   "execution_count": 54,
   "metadata": {},
   "outputs": [
    {
     "data": {
      "text/plain": [
       "{'max_depth': 12, 'n_estimators': 200}"
      ]
     },
     "execution_count": 54,
     "metadata": {},
     "output_type": "execute_result"
    }
   ],
   "source": [
    "cv_rf_impute.best_params_\n",
    "# {'max_depth': 12, 'n_estimators': 100}"
   ]
  },
  {
   "cell_type": "code",
   "execution_count": 55,
   "metadata": {},
   "outputs": [
    {
     "data": {
      "text/plain": [
       "0.7344242187492307"
      ]
     },
     "execution_count": 55,
     "metadata": {},
     "output_type": "execute_result"
    }
   ],
   "source": [
    "cv_rf_impute.best_score_\n",
    "# 0.7337676389523727"
   ]
  },
  {
   "cell_type": "code",
   "execution_count": 56,
   "metadata": {},
   "outputs": [],
   "source": [
    "pay_1_value_counts = pay_1_df['PAY_1'].value_counts().sort_index()"
   ]
  },
  {
   "cell_type": "code",
   "execution_count": 57,
   "metadata": {},
   "outputs": [
    {
     "data": {
      "text/plain": [
       "-2     2476\n",
       "-1     5047\n",
       " 0    13087\n",
       " 1     3261\n",
       " 2     2378\n",
       " 3      292\n",
       " 4       63\n",
       " 5       23\n",
       " 6       11\n",
       " 7        9\n",
       " 8       17\n",
       "Name: PAY_1, dtype: int64"
      ]
     },
     "execution_count": 57,
     "metadata": {},
     "output_type": "execute_result"
    }
   ],
   "source": [
    "pay_1_value_counts"
   ]
  },
  {
   "cell_type": "code",
   "execution_count": 58,
   "metadata": {},
   "outputs": [
    {
     "data": {
      "text/plain": [
       "-2    0.092859\n",
       "-1    0.189281\n",
       " 0    0.490812\n",
       " 1    0.122300\n",
       " 2    0.089184\n",
       " 3    0.010951\n",
       " 4    0.002363\n",
       " 5    0.000863\n",
       " 6    0.000413\n",
       " 7    0.000338\n",
       " 8    0.000638\n",
       "Name: PAY_1, dtype: float64"
      ]
     },
     "execution_count": 58,
     "metadata": {},
     "output_type": "execute_result"
    }
   ],
   "source": [
    "pay_1_value_counts/pay_1_value_counts.sum()"
   ]
  },
  {
   "cell_type": "code",
   "execution_count": 59,
   "metadata": {},
   "outputs": [
    {
     "name": "stderr",
     "output_type": "stream",
     "text": [
      "[Parallel(n_jobs=1)]: Using backend SequentialBackend with 1 concurrent workers.\n",
      "[Parallel(n_jobs=1)]: Done 200 out of 200 | elapsed:    0.3s finished\n"
     ]
    }
   ],
   "source": [
    "y_impute_predict = cv_rf_impute.predict(X_impute_test)"
   ]
  },
  {
   "cell_type": "code",
   "execution_count": 60,
   "metadata": {},
   "outputs": [],
   "source": [
    "from sklearn import metrics"
   ]
  },
  {
   "cell_type": "code",
   "execution_count": 61,
   "metadata": {},
   "outputs": [
    {
     "data": {
      "text/plain": [
       "0.7391711981998875"
      ]
     },
     "execution_count": 61,
     "metadata": {},
     "output_type": "execute_result"
    }
   ],
   "source": [
    "metrics.accuracy_score(y_impute_test, y_impute_predict)"
   ]
  },
  {
   "cell_type": "code",
   "execution_count": 62,
   "metadata": {},
   "outputs": [
    {
     "data": {
      "image/png": "[encoded data removed]",
      "text/plain": [
       "<Figure size 3200x1200 with 2 Axes>"
      ]
     },
     "metadata": {
      "needs_background": "light"
     },
     "output_type": "display_data"
    }
   ],
   "source": [
    "fig, axs = plt.subplots(1,2, figsize=(8,3))\n",
    "axs[0].hist(y_impute_test, bins=bin_edges, align='left')\n",
    "axs[0].set_xticks(bin_edges)\n",
    "axs[0].set_title('Non-missing values of PAY_1')\n",
    "axs[1].hist(y_impute_predict, bins=bin_edges, align='left')\n",
    "axs[1].set_xticks(bin_edges)\n",
    "axs[1].set_title('Model-based imputation')\n",
    "plt.tight_layout()"
   ]
  },
  {
   "cell_type": "code",
   "execution_count": 63,
   "metadata": {},
   "outputs": [],
   "source": [
    "X_impute_all = pay_1_df[features_for_imputation].values\n",
    "y_impute_all = pay_1_df['PAY_1'].values"
   ]
  },
  {
   "cell_type": "code",
   "execution_count": 64,
   "metadata": {},
   "outputs": [],
   "source": [
    "rf_impute = RandomForestClassifier(n_estimators=100, max_depth=12)"
   ]
  },
  {
   "cell_type": "code",
   "execution_count": 65,
   "metadata": {},
   "outputs": [
    {
     "data": {
      "text/plain": [
       "RandomForestClassifier(max_depth=12)"
      ]
     },
     "execution_count": 65,
     "metadata": {},
     "output_type": "execute_result"
    }
   ],
   "source": [
    "rf_impute"
   ]
  },
  {
   "cell_type": "code",
   "execution_count": 66,
   "metadata": {},
   "outputs": [
    {
     "data": {
      "text/plain": [
       "RandomForestClassifier(max_depth=12)"
      ]
     },
     "execution_count": 66,
     "metadata": {},
     "output_type": "execute_result"
    }
   ],
   "source": [
    "rf_impute.fit(X_impute_all, y_impute_all)"
   ]
  },
  {
   "cell_type": "markdown",
   "metadata": {},
   "source": [
    "##### Using the Imputation Model and Comparing it to Other Methods"
   ]
  },
  {
   "cell_type": "code",
   "execution_count": 67,
   "metadata": {},
   "outputs": [],
   "source": [
    "df_fill_pay_1_model = df_missing_pay_1.copy()"
   ]
  },
  {
   "cell_type": "code",
   "execution_count": 68,
   "metadata": {},
   "outputs": [
    {
     "data": {
      "text/plain": [
       "17    Not available\n",
       "28    Not available\n",
       "29    Not available\n",
       "54    Not available\n",
       "60    Not available\n",
       "Name: PAY_1, dtype: object"
      ]
     },
     "execution_count": 68,
     "metadata": {},
     "output_type": "execute_result"
    }
   ],
   "source": [
    "df_fill_pay_1_model['PAY_1'].head()"
   ]
  },
  {
   "cell_type": "code",
   "execution_count": 69,
   "metadata": {},
   "outputs": [],
   "source": [
    "df_fill_pay_1_model['PAY_1'] = rf_impute.predict(df_fill_pay_1_model[features_for_imputation].values)"
   ]
  },
  {
   "cell_type": "code",
   "execution_count": 70,
   "metadata": {},
   "outputs": [
    {
     "data": {
      "text/plain": [
       "17    0\n",
       "28   -1\n",
       "29    0\n",
       "54    0\n",
       "60    0\n",
       "Name: PAY_1, dtype: int64"
      ]
     },
     "execution_count": 70,
     "metadata": {},
     "output_type": "execute_result"
    }
   ],
   "source": [
    "df_fill_pay_1_model['PAY_1'].head()"
   ]
  },
  {
   "cell_type": "code",
   "execution_count": 71,
   "metadata": {},
   "outputs": [
    {
     "data": {
      "text/plain": [
       "-2      30\n",
       "-1     763\n",
       " 0    1715\n",
       " 1     438\n",
       " 2      64\n",
       " 3       7\n",
       " 4       2\n",
       " 6       1\n",
       " 8       1\n",
       "Name: PAY_1, dtype: int64"
      ]
     },
     "execution_count": 71,
     "metadata": {},
     "output_type": "execute_result"
    }
   ],
   "source": [
    "df_fill_pay_1_model['PAY_1'].value_counts().sort_index()"
   ]
  },
  {
   "cell_type": "code",
   "execution_count": 72,
   "metadata": {},
   "outputs": [],
   "source": [
    "X_fill_pay_1_train, X_fill_pay_1_test, y_fill_pay_1_train, y_fill_pay_1_test = \\\n",
    "train_test_split(\n",
    "    df_fill_pay_1_model[features_response[:-1]].values,\n",
    "    df_fill_pay_1_model['default payment next month'].values,\n",
    "test_size=0.2, random_state=24)"
   ]
  },
  {
   "cell_type": "code",
   "execution_count": 73,
   "metadata": {},
   "outputs": [
    {
     "name": "stdout",
     "output_type": "stream",
     "text": [
      "(2416, 17)\n",
      "(605, 17)\n",
      "(2416,)\n",
      "(605,)\n"
     ]
    }
   ],
   "source": [
    "print(X_fill_pay_1_train.shape)\n",
    "print(X_fill_pay_1_test.shape)\n",
    "print(y_fill_pay_1_train.shape)\n",
    "print(y_fill_pay_1_test.shape)"
   ]
  },
  {
   "cell_type": "code",
   "execution_count": 74,
   "metadata": {},
   "outputs": [],
   "source": [
    "X_train_all = np.concatenate((X_train, X_fill_pay_1_train), axis=0)\n",
    "y_train_all = np.concatenate((y_train, y_fill_pay_1_train), axis=0)"
   ]
  },
  {
   "cell_type": "code",
   "execution_count": 75,
   "metadata": {},
   "outputs": [
    {
     "name": "stdout",
     "output_type": "stream",
     "text": [
      "(23747, 17)\n",
      "(23747,)\n"
     ]
    }
   ],
   "source": [
    "print(X_train_all.shape)\n",
    "print(y_train_all.shape)"
   ]
  },
  {
   "cell_type": "code",
   "execution_count": 76,
   "metadata": {},
   "outputs": [
    {
     "data": {
      "text/plain": [
       "RandomForestClassifier(max_depth=9, n_estimators=200, random_state=4, verbose=1)"
      ]
     },
     "execution_count": 76,
     "metadata": {},
     "output_type": "execute_result"
    }
   ],
   "source": [
    "rf"
   ]
  },
  {
   "cell_type": "code",
   "execution_count": 77,
   "metadata": {},
   "outputs": [
    {
     "name": "stderr",
     "output_type": "stream",
     "text": [
      "[Parallel(n_jobs=-1)]: Using backend LokyBackend with 4 concurrent workers.\n",
      "[Parallel(n_jobs=-1)]: Done   2 out of   4 | elapsed:   19.3s remaining:   19.3s\n",
      "[Parallel(n_jobs=-1)]: Done   4 out of   4 | elapsed:   19.4s finished\n"
     ]
    }
   ],
   "source": [
    "imputation_compare_cv = cross_validate(rf, X_train_all, y_train_all, scoring='roc_auc',\n",
    "                                       cv=k_folds, n_jobs=-1, verbose=1,\n",
    "                                       return_train_score=True, return_estimator=True,\n",
    "                                       error_score='raise-deprecating')"
   ]
  },
  {
   "cell_type": "code",
   "execution_count": 78,
   "metadata": {},
   "outputs": [
    {
     "data": {
      "text/plain": [
       "array([0.76890992, 0.77309591, 0.77166336, 0.77703366])"
      ]
     },
     "execution_count": 78,
     "metadata": {},
     "output_type": "execute_result"
    }
   ],
   "source": [
    "imputation_compare_cv['test_score']\n",
    "# array([0.76890992, 0.77309591, 0.77166336, 0.77703366])"
   ]
  },
  {
   "cell_type": "code",
   "execution_count": 79,
   "metadata": {},
   "outputs": [
    {
     "data": {
      "text/plain": [
       "0.7726757126815554"
      ]
     },
     "execution_count": 79,
     "metadata": {},
     "output_type": "execute_result"
    }
   ],
   "source": [
    "np.mean(imputation_compare_cv['test_score'])\n",
    "# 0.7726757126815554"
   ]
  },
  {
   "cell_type": "code",
   "execution_count": 80,
   "metadata": {},
   "outputs": [
    {
     "data": {
      "text/plain": [
       "0.002931480680760725"
      ]
     },
     "execution_count": 80,
     "metadata": {},
     "output_type": "execute_result"
    }
   ],
   "source": [
    "np.std(imputation_compare_cv['test_score'])\n",
    "# 0.002931480680760725"
   ]
  },
  {
   "cell_type": "markdown",
   "metadata": {},
   "source": [
    "Reassign values using mode imputation"
   ]
  },
  {
   "cell_type": "code",
   "execution_count": 81,
   "metadata": {},
   "outputs": [],
   "source": [
    "df_fill_pay_1_model['PAY_1'] = np.zeros_like(df_fill_pay_1_model['PAY_1'].values)"
   ]
  },
  {
   "cell_type": "code",
   "execution_count": 82,
   "metadata": {},
   "outputs": [
    {
     "data": {
      "text/plain": [
       "array([0], dtype=int64)"
      ]
     },
     "execution_count": 82,
     "metadata": {},
     "output_type": "execute_result"
    }
   ],
   "source": [
    "df_fill_pay_1_model['PAY_1'].unique()"
   ]
  },
  {
   "cell_type": "code",
   "execution_count": 83,
   "metadata": {},
   "outputs": [],
   "source": [
    "X_fill_pay_1_train, X_fill_pay_1_test, y_fill_pay_1_train, y_fill_pay_1_test = \\\n",
    "train_test_split(\n",
    "    df_fill_pay_1_model[features_response[:-1]].values,\n",
    "    df_fill_pay_1_model['default payment next month'].values,\n",
    "test_size=0.2, random_state=24)"
   ]
  },
  {
   "cell_type": "code",
   "execution_count": 84,
   "metadata": {},
   "outputs": [],
   "source": [
    "X_train_all = np.concatenate((X_train, X_fill_pay_1_train), axis=0)\n",
    "X_test_all = np.concatenate((X_test, X_fill_pay_1_test), axis=0)\n",
    "y_train_all = np.concatenate((y_train, y_fill_pay_1_train), axis=0)\n",
    "y_test_all = np.concatenate((y_test, y_fill_pay_1_test), axis=0)"
   ]
  },
  {
   "cell_type": "code",
   "execution_count": 85,
   "metadata": {},
   "outputs": [
    {
     "name": "stdout",
     "output_type": "stream",
     "text": [
      "(23747, 17)\n",
      "(5938, 17)\n",
      "(23747,)\n",
      "(5938,)\n"
     ]
    }
   ],
   "source": [
    "print(X_train_all.shape)\n",
    "print(X_test_all.shape)\n",
    "print(y_train_all.shape)\n",
    "print(y_test_all.shape)"
   ]
  },
  {
   "cell_type": "code",
   "execution_count": 86,
   "metadata": {},
   "outputs": [
    {
     "name": "stderr",
     "output_type": "stream",
     "text": [
      "[Parallel(n_jobs=-1)]: Using backend LokyBackend with 4 concurrent workers.\n",
      "[Parallel(n_jobs=-1)]: Done   2 out of   4 | elapsed:   19.8s remaining:   19.8s\n",
      "[Parallel(n_jobs=-1)]: Done   4 out of   4 | elapsed:   20.0s finished\n"
     ]
    }
   ],
   "source": [
    "imputation_compare_cv = cross_validate(rf, X_train_all, y_train_all, scoring='roc_auc',\n",
    "                                       cv=k_folds, n_jobs=-1, verbose=1,\n",
    "                                       return_train_score=True, return_estimator=True,\n",
    "                                       error_score='raise-deprecating')"
   ]
  },
  {
   "cell_type": "code",
   "execution_count": 87,
   "metadata": {},
   "outputs": [
    {
     "data": {
      "text/plain": [
       "0.772866246168149"
      ]
     },
     "execution_count": 87,
     "metadata": {},
     "output_type": "execute_result"
    }
   ],
   "source": [
    "np.mean(imputation_compare_cv['test_score'])"
   ]
  },
  {
   "cell_type": "markdown",
   "metadata": {},
   "source": [
    "##### Confirming Model Performance on the Unseen Test Set"
   ]
  },
  {
   "cell_type": "code",
   "execution_count": 88,
   "metadata": {},
   "outputs": [
    {
     "name": "stderr",
     "output_type": "stream",
     "text": [
      "[Parallel(n_jobs=1)]: Using backend SequentialBackend with 1 concurrent workers.\n",
      "[Parallel(n_jobs=1)]: Done 200 out of 200 | elapsed:   13.3s finished\n"
     ]
    },
    {
     "data": {
      "text/plain": [
       "RandomForestClassifier(max_depth=9, n_estimators=200, random_state=4, verbose=1)"
      ]
     },
     "execution_count": 88,
     "metadata": {},
     "output_type": "execute_result"
    }
   ],
   "source": [
    "rf.fit(X_train_all, y_train_all)"
   ]
  },
  {
   "cell_type": "code",
   "execution_count": 89,
   "metadata": {},
   "outputs": [
    {
     "name": "stderr",
     "output_type": "stream",
     "text": [
      "[Parallel(n_jobs=1)]: Using backend SequentialBackend with 1 concurrent workers.\n",
      "[Parallel(n_jobs=1)]: Done 200 out of 200 | elapsed:    0.2s finished\n"
     ]
    }
   ],
   "source": [
    "y_test_all_predict_proba = rf.predict_proba(X_test_all)"
   ]
  },
  {
   "cell_type": "code",
   "execution_count": 90,
   "metadata": {},
   "outputs": [],
   "source": [
    "from sklearn.metrics import roc_auc_score"
   ]
  },
  {
   "cell_type": "code",
   "execution_count": 91,
   "metadata": {},
   "outputs": [
    {
     "data": {
      "text/plain": [
       "0.7696243835824927"
      ]
     },
     "execution_count": 91,
     "metadata": {},
     "output_type": "execute_result"
    }
   ],
   "source": [
    "roc_auc_score(y_test_all, y_test_all_predict_proba[:,1])\n",
    "# 0.7696243835824927"
   ]
  },
  {
   "cell_type": "markdown",
   "metadata": {},
   "source": [
    "##### Characterizing Costs and Savings"
   ]
  },
  {
   "cell_type": "code",
   "execution_count": 92,
   "metadata": {},
   "outputs": [],
   "source": [
    "thresholds = np.linspace(0, 1, 101)"
   ]
  },
  {
   "cell_type": "markdown",
   "metadata": {},
   "source": [
    "Use mean bill amount to estimate savings per prevented default"
   ]
  },
  {
   "cell_type": "code",
   "execution_count": 93,
   "metadata": {},
   "outputs": [
    {
     "data": {
      "text/plain": [
       "'BILL_AMT1'"
      ]
     },
     "execution_count": 93,
     "metadata": {},
     "output_type": "execute_result"
    }
   ],
   "source": [
    "df[features_response[:-1]].columns[5]"
   ]
  },
  {
   "cell_type": "code",
   "execution_count": 94,
   "metadata": {},
   "outputs": [
    {
     "data": {
      "text/plain": [
       "51601.7433479286"
      ]
     },
     "execution_count": 94,
     "metadata": {},
     "output_type": "execute_result"
    }
   ],
   "source": [
    "savings_per_default = np.mean(X_test_all[:, 5])\n",
    "savings_per_default\n",
    "# 51601.7433479286"
   ]
  },
  {
   "cell_type": "code",
   "execution_count": 95,
   "metadata": {},
   "outputs": [],
   "source": [
    "cost_per_counseling = 7500"
   ]
  },
  {
   "cell_type": "code",
   "execution_count": 96,
   "metadata": {},
   "outputs": [],
   "source": [
    "effectiveness = 0.70"
   ]
  },
  {
   "cell_type": "code",
   "execution_count": 97,
   "metadata": {},
   "outputs": [],
   "source": [
    "n_pos_pred = np.empty_like(thresholds)\n",
    "cost_of_all_counselings = np.empty_like(thresholds)\n",
    "n_true_pos = np.empty_like(thresholds)\n",
    "savings_of_all_counselings = np.empty_like(thresholds)"
   ]
  },
  {
   "cell_type": "code",
   "execution_count": 98,
   "metadata": {},
   "outputs": [],
   "source": [
    "counter = 0\n",
    "for threshold in thresholds:\n",
    "    pos_pred = y_test_all_predict_proba[:,1]>threshold\n",
    "    n_pos_pred[counter] = sum(pos_pred)\n",
    "    cost_of_all_counselings[counter] = n_pos_pred[counter] * cost_per_counseling\n",
    "    true_pos = pos_pred & y_test_all.astype(bool)\n",
    "    n_true_pos[counter] = sum(true_pos)\n",
    "    savings_of_all_counselings[counter] = n_true_pos[counter] * savings_per_default * effectiveness\n",
    "    \n",
    "    counter += 1"
   ]
  },
  {
   "cell_type": "code",
   "execution_count": 99,
   "metadata": {},
   "outputs": [],
   "source": [
    "net_savings = savings_of_all_counselings - cost_of_all_counselings"
   ]
  },
  {
   "cell_type": "code",
   "execution_count": 100,
   "metadata": {},
   "outputs": [],
   "source": [
    "# plt.plot(thresholds, cost_of_all_counselings)"
   ]
  },
  {
   "cell_type": "code",
   "execution_count": 101,
   "metadata": {},
   "outputs": [],
   "source": [
    "# plt.plot(thresholds, savings_of_all_counselings)"
   ]
  },
  {
   "cell_type": "code",
   "execution_count": 102,
   "metadata": {},
   "outputs": [
    {
     "data": {
      "image/png": "[encoded data removed]",
      "text/plain": [
       "<Figure size 300x200 with 1 Axes>"
      ]
     },
     "metadata": {
      "needs_background": "light"
     },
     "output_type": "display_data"
    }
   ],
   "source": [
    "mpl.rcParams['figure.dpi'] = 50\n",
    "plt.plot(thresholds, net_savings)\n",
    "plt.xlabel('Threshold')\n",
    "plt.ylabel('Net savings (NT$)')\n",
    "plt.xticks(np.linspace(0,1,11))\n",
    "plt.grid(True)"
   ]
  },
  {
   "cell_type": "code",
   "execution_count": 103,
   "metadata": {},
   "outputs": [],
   "source": [
    "max_savings_ix = np.argmax(net_savings)"
   ]
  },
  {
   "cell_type": "markdown",
   "metadata": {},
   "source": [
    "What is the threshold at which maximum savings is achieved?"
   ]
  },
  {
   "cell_type": "code",
   "execution_count": 104,
   "metadata": {},
   "outputs": [
    {
     "data": {
      "text/plain": [
       "0.2"
      ]
     },
     "execution_count": 104,
     "metadata": {},
     "output_type": "execute_result"
    }
   ],
   "source": [
    "thresholds[max_savings_ix]\n",
    "# 0.2"
   ]
  },
  {
   "cell_type": "markdown",
   "metadata": {},
   "source": [
    "What is the maximum possible savings?"
   ]
  },
  {
   "cell_type": "code",
   "execution_count": 105,
   "metadata": {},
   "outputs": [
    {
     "data": {
      "text/plain": [
       "15446325.35991916"
      ]
     },
     "execution_count": 105,
     "metadata": {},
     "output_type": "execute_result"
    }
   ],
   "source": [
    "net_savings[max_savings_ix]\n",
    "# 15446325.35991916"
   ]
  },
  {
   "cell_type": "markdown",
   "metadata": {},
   "source": [
    "## Challenge: Deriving Financial Insights"
   ]
  },
  {
   "cell_type": "markdown",
   "metadata": {},
   "source": [
    "    Everything that is needed prior to this challenge has been included in the notebook above. You should run all the necessary portions of the provided code before beginning these tasks."
   ]
  },
  {
   "cell_type": "code",
   "execution_count": 106,
   "metadata": {},
   "outputs": [
    {
     "data": {
      "application/javascript": [
       "IPython.notebook.set_autosave_interval(10000)"
      ]
     },
     "metadata": {},
     "output_type": "display_data"
    },
    {
     "name": "stdout",
     "output_type": "stream",
     "text": [
      "Autosaving every 10 seconds\n"
     ]
    }
   ],
   "source": [
    "# This will autosave your notebook every ten seconds\n",
    "%autosave 10"
   ]
  },
  {
   "cell_type": "markdown",
   "metadata": {},
   "source": [
    "**Using the testing set, calculate the cost of all defaults if there were no counseling program and output your result.**"
   ]
  },
  {
   "cell_type": "code",
   "execution_count": 107,
   "metadata": {
    "eid": "415a5"
   },
   "outputs": [
    {
     "data": {
      "text/plain": [
       "1285"
      ]
     },
     "execution_count": 107,
     "metadata": {},
     "output_type": "execute_result"
    }
   ],
   "source": [
    "sum(y_test_all)"
   ]
  },
  {
   "cell_type": "markdown",
   "metadata": {},
   "source": [
    "_______________________________________________________________________________________________\n",
    "**Next, calculate by what percent can the cost of defaults be decreased by the counseling program and output you result.**"
   ]
  },
  {
   "cell_type": "code",
   "execution_count": 108,
   "metadata": {
    "eid": "96508"
   },
   "outputs": [
    {
     "data": {
      "text/plain": [
       "66308240.202088244"
      ]
     },
     "execution_count": 108,
     "metadata": {},
     "output_type": "execute_result"
    }
   ],
   "source": [
    "cost_per=sum(y_test_all)*savings_per_default\n",
    "cost_per"
   ]
  },
  {
   "cell_type": "markdown",
   "metadata": {},
   "source": [
    "_______________________________________________________________________________________________\n",
    "**Then, calculate the net savings per account at the optimal threshold and output your result.**"
   ]
  },
  {
   "cell_type": "code",
   "execution_count": 109,
   "metadata": {
    "eid": "5d78e"
   },
   "outputs": [],
   "source": [
    "net_saving=savings_of_all_counselings - cost_of_all_counselings"
   ]
  },
  {
   "cell_type": "markdown",
   "metadata": {},
   "source": [
    "_______________________________________________________________________________________________\n",
    "**Now, plot the net savings per account against the cost of counseling per account for each threshold.**"
   ]
  },
  {
   "cell_type": "code",
   "execution_count": 110,
   "metadata": {
    "eid": "71d38"
   },
   "outputs": [
    {
     "data": {
      "text/plain": [
       "Text(0, 0.5, 'Net savings per account')"
      ]
     },
     "execution_count": 110,
     "metadata": {},
     "output_type": "execute_result"
    },
    {
     "data": {
      "image/png": "[encoded data removed]",
      "text/plain": [
       "<Figure size 300x200 with 1 Axes>"
      ]
     },
     "metadata": {
      "needs_background": "light"
     },
     "output_type": "display_data"
    }
   ],
   "source": [
    "plt.plot(net_savings,cost_of_all_counselings)\n",
    "plt.xlabel('Cost of counselings per account')\n",
    "plt.ylabel('Net savings per account')"
   ]
  },
  {
   "cell_type": "markdown",
   "metadata": {},
   "source": [
    "_______________________________________________________________________________________________\n",
    "**Next, plot the fraction of accounts predicted as positive (this is called the \"flag rate\") at each threshold.**"
   ]
  },
  {
   "cell_type": "code",
   "execution_count": 111,
   "metadata": {},
   "outputs": [],
   "source": [
    "flag_rate = n_pos_pred/len(y_test_all)"
   ]
  },
  {
   "cell_type": "code",
   "execution_count": 112,
   "metadata": {
    "eid": "6270e"
   },
   "outputs": [
    {
     "data": {
      "text/plain": [
       "Text(0.5, 0, 'Threshold')"
      ]
     },
     "execution_count": 112,
     "metadata": {},
     "output_type": "execute_result"
    },
    {
     "data": {
      "image/png": "[encoded data removed]",
      "text/plain": [
       "<Figure size 300x200 with 1 Axes>"
      ]
     },
     "metadata": {
      "needs_background": "light"
     },
     "output_type": "display_data"
    }
   ],
   "source": [
    "plt.plot(thresholds,flag_rate )\n",
    "plt.ylabel('Flag rate')\n",
    "plt.xlabel('Threshold')"
   ]
  },
  {
   "cell_type": "markdown",
   "metadata": {},
   "source": [
    "_______________________________________________________________________________________________\n",
    "**Next, plot a precision-recall curve for the testing data.**"
   ]
  },
  {
   "cell_type": "code",
   "execution_count": 113,
   "metadata": {},
   "outputs": [
    {
     "name": "stderr",
     "output_type": "stream",
     "text": [
      "C:\\ProgramData\\Anaconda3\\lib\\site-packages\\ipykernel_launcher.py:1: RuntimeWarning: invalid value encountered in true_divide\n",
      "  \"\"\"Entry point for launching an IPython kernel.\n"
     ]
    }
   ],
   "source": [
    "pricision = n_true_pos/n_pos_pred\n",
    "recall =    n_true_pos/sum(y_test_all)"
   ]
  },
  {
   "cell_type": "code",
   "execution_count": 114,
   "metadata": {
    "eid": "0edc5"
   },
   "outputs": [
    {
     "data": {
      "text/plain": [
       "Text(0, 0.5, 'Precision')"
      ]
     },
     "execution_count": 114,
     "metadata": {},
     "output_type": "execute_result"
    },
    {
     "data": {
      "image/png": "[encoded data removed]",
      "text/plain": [
       "<Figure size 300x200 with 1 Axes>"
      ]
     },
     "metadata": {
      "needs_background": "light"
     },
     "output_type": "display_data"
    }
   ],
   "source": [
    "plt.plot(pricision,recall)\n",
    "plt.xlabel('Recall')\n",
    "plt.ylabel('Precision')"
   ]
  },
  {
   "cell_type": "markdown",
   "metadata": {},
   "source": [
    "_______________________________________________________________________________________________\n",
    "**Finally, plot precision and recall separately on the y-axis against threshold on the x-axis.**"
   ]
  },
  {
   "cell_type": "code",
   "execution_count": 115,
   "metadata": {
    "eid": "88413"
   },
   "outputs": [
    {
     "data": {
      "text/plain": [
       "<matplotlib.legend.Legend at 0x1851b4dad08>"
      ]
     },
     "execution_count": 115,
     "metadata": {},
     "output_type": "execute_result"
    },
    {
     "data": {
      "image/png": "[encoded data removed]",
      "text/plain": [
       "<Figure size 300x200 with 1 Axes>"
      ]
     },
     "metadata": {
      "needs_background": "light"
     },
     "output_type": "display_data"
    }
   ],
   "source": [
    "#for presicion\n",
    "plt.plot(thresholds,pricision, label='Precision')\n",
    "#for recall\n",
    "plt.plot(thresholds,recall, label='Recall')\n",
    "plt.xlabel('Threshold')\n",
    "plt.legend()"
   ]
  },
  {
   "cell_type": "code",
   "execution_count": null,
   "metadata": {},
   "outputs": [],
   "source": []
  }
 ],
 "metadata": {
  "kernelspec": {
   "display_name": "Python 3",
   "language": "python",
   "name": "python3"
  },
  "language_info": {
   "codemirror_mode": {
    "name": "ipython",
    "version": 3
   },
   "file_extension": ".py",
   "mimetype": "text/x-python",
   "name": "python",
   "nbconvert_exporter": "python",
   "pygments_lexer": "ipython3",
   "version": "3.7.6"
  }
 },
 "nbformat": 4,
 "nbformat_minor": 2
}
